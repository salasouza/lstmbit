{
 "cells": [
  {
   "cell_type": "code",
   "execution_count": 1,
   "id": "701e7688-f56e-44af-bfcf-f11224cfc10e",
   "metadata": {},
   "outputs": [],
   "source": [
    "import pandas as pd\n",
    "import matplotlib.pyplot as plt\n",
    "import seaborn as sns\n",
    "import numpy as np\n",
    "import warnings\n",
    "#@ Settings Notebook\n",
    "warnings.filterwarnings('ignore')"
   ]
  },
  {
   "cell_type": "markdown",
   "id": "e5ce1ba4-613c-4041-9b7f-d1a9961b4342",
   "metadata": {},
   "source": [
    "<h3>Experimento 10d</h3>"
   ]
  },
  {
   "cell_type": "code",
   "execution_count": 2,
   "id": "0df09507-037b-4f67-aed1-6003ada49da2",
   "metadata": {},
   "outputs": [],
   "source": [
    "df = pd.read_csv('../database/trusted/experimento_10d.csv', sep=',')"
   ]
  },
  {
   "cell_type": "code",
   "execution_count": 3,
   "id": "4c562c83-28bb-4015-9c05-d38112d92e4f",
   "metadata": {},
   "outputs": [
    {
     "data": {
      "text/plain": [
       "Index(['Name', 'timeperiod', 'learning_rate', 'epoch', 'Test RSME', 'mae',\n",
       "       'loss', 'dropout', 'Runtime', 'State', 'Notes', 'User', 'Tags',\n",
       "       'Created', 'Sweep', 'architecture', 'batch_size', 'loss_function',\n",
       "       'best_epoch', 'best_val_loss', 'val_loss', 'val_mae'],\n",
       "      dtype='object')"
      ]
     },
     "execution_count": 3,
     "metadata": {},
     "output_type": "execute_result"
    }
   ],
   "source": [
    "df.columns"
   ]
  },
  {
   "cell_type": "code",
   "execution_count": 4,
   "id": "7524319e-4bd7-4052-a8c6-4db06f697510",
   "metadata": {},
   "outputs": [],
   "source": [
    "columns = ['architecture','timeperiod', 'learning_rate', \n",
    "           'epoch', 'Test RSME', 'mae',\n",
    "           'loss', 'dropout', 'Runtime',\n",
    "           'batch_size','best_epoch', 'val_mae']\n",
    "\n",
    "df = df[columns]\n",
    "\n",
    "df_10d = df.rename(columns={'Test RSME': 'rsme',\n",
    "                           'learning_rate':'eta',\n",
    "                           'Runtime':'runtime'})"
   ]
  },
  {
   "cell_type": "code",
   "execution_count": 5,
   "id": "2813dd3a-9030-40b8-91f7-8ac78fefb3ef",
   "metadata": {},
   "outputs": [
    {
     "data": {
      "text/html": [
       "<div>\n",
       "<style scoped>\n",
       "    .dataframe tbody tr th:only-of-type {\n",
       "        vertical-align: middle;\n",
       "    }\n",
       "\n",
       "    .dataframe tbody tr th {\n",
       "        vertical-align: top;\n",
       "    }\n",
       "\n",
       "    .dataframe thead th {\n",
       "        text-align: right;\n",
       "    }\n",
       "</style>\n",
       "<table border=\"1\" class=\"dataframe\">\n",
       "  <thead>\n",
       "    <tr style=\"text-align: right;\">\n",
       "      <th></th>\n",
       "      <th>architecture</th>\n",
       "      <th>timeperiod</th>\n",
       "      <th>eta</th>\n",
       "      <th>epoch</th>\n",
       "      <th>rsme</th>\n",
       "      <th>mae</th>\n",
       "      <th>loss</th>\n",
       "      <th>dropout</th>\n",
       "      <th>runtime</th>\n",
       "      <th>batch_size</th>\n",
       "      <th>best_epoch</th>\n",
       "      <th>val_mae</th>\n",
       "    </tr>\n",
       "  </thead>\n",
       "  <tbody>\n",
       "    <tr>\n",
       "      <th>0</th>\n",
       "      <td>LSTM</td>\n",
       "      <td>10d</td>\n",
       "      <td>0.001</td>\n",
       "      <td>160</td>\n",
       "      <td>757.746260</td>\n",
       "      <td>0.010197</td>\n",
       "      <td>0.000298</td>\n",
       "      <td>0.006381</td>\n",
       "      <td>622</td>\n",
       "      <td>32</td>\n",
       "      <td>7</td>\n",
       "      <td>26904.582031</td>\n",
       "    </tr>\n",
       "    <tr>\n",
       "      <th>1</th>\n",
       "      <td>LSTM</td>\n",
       "      <td>10d</td>\n",
       "      <td>0.001</td>\n",
       "      <td>80</td>\n",
       "      <td>410.893483</td>\n",
       "      <td>0.011433</td>\n",
       "      <td>0.000384</td>\n",
       "      <td>0.008570</td>\n",
       "      <td>445</td>\n",
       "      <td>32</td>\n",
       "      <td>14</td>\n",
       "      <td>26904.589844</td>\n",
       "    </tr>\n",
       "    <tr>\n",
       "      <th>2</th>\n",
       "      <td>LSTM</td>\n",
       "      <td>10d</td>\n",
       "      <td>0.001</td>\n",
       "      <td>40</td>\n",
       "      <td>89.090010</td>\n",
       "      <td>0.013419</td>\n",
       "      <td>0.000517</td>\n",
       "      <td>0.008584</td>\n",
       "      <td>318</td>\n",
       "      <td>32</td>\n",
       "      <td>15</td>\n",
       "      <td>26904.595703</td>\n",
       "    </tr>\n",
       "  </tbody>\n",
       "</table>\n",
       "</div>"
      ],
      "text/plain": [
       "  architecture timeperiod    eta  epoch        rsme       mae      loss  \\\n",
       "0         LSTM        10d  0.001    160  757.746260  0.010197  0.000298   \n",
       "1         LSTM        10d  0.001     80  410.893483  0.011433  0.000384   \n",
       "2         LSTM        10d  0.001     40   89.090010  0.013419  0.000517   \n",
       "\n",
       "    dropout  runtime  batch_size  best_epoch       val_mae  \n",
       "0  0.006381      622          32           7  26904.582031  \n",
       "1  0.008570      445          32          14  26904.589844  \n",
       "2  0.008584      318          32          15  26904.595703  "
      ]
     },
     "execution_count": 5,
     "metadata": {},
     "output_type": "execute_result"
    }
   ],
   "source": [
    "df_10d.head(3)"
   ]
  },
  {
   "cell_type": "markdown",
   "id": "1479a40e-ba0a-4176-b096-90399b5f5a09",
   "metadata": {},
   "source": [
    "<h3>Experimento 30d</h3>"
   ]
  },
  {
   "cell_type": "code",
   "execution_count": 6,
   "id": "9ab01b14-2888-4302-abc0-699b70c3f418",
   "metadata": {},
   "outputs": [],
   "source": [
    "df = pd.read_csv('../database/trusted/experimento_30d.csv', sep=',')"
   ]
  },
  {
   "cell_type": "code",
   "execution_count": 7,
   "id": "be2888c7-6c9c-486f-9553-3dded9bfbf34",
   "metadata": {},
   "outputs": [],
   "source": [
    "columns = ['architecture','timeperiod', 'learning_rate', \n",
    "           'epoch', 'Test RSME', 'mae',\n",
    "           'loss', 'dropout', 'Runtime',\n",
    "           'batch_size','best_epoch', 'val_mae']\n",
    "\n",
    "df = df[columns]\n",
    "\n",
    "df_30d = df.rename(columns={'Test RSME': 'rsme',\n",
    "                           'learning_rate':'eta',\n",
    "                           'Runtime':'runtime'})"
   ]
  },
  {
   "cell_type": "code",
   "execution_count": 8,
   "id": "10d3a7d2-68a8-4205-9fb2-8b0b4c4d790a",
   "metadata": {},
   "outputs": [
    {
     "data": {
      "text/html": [
       "<div>\n",
       "<style scoped>\n",
       "    .dataframe tbody tr th:only-of-type {\n",
       "        vertical-align: middle;\n",
       "    }\n",
       "\n",
       "    .dataframe tbody tr th {\n",
       "        vertical-align: top;\n",
       "    }\n",
       "\n",
       "    .dataframe thead th {\n",
       "        text-align: right;\n",
       "    }\n",
       "</style>\n",
       "<table border=\"1\" class=\"dataframe\">\n",
       "  <thead>\n",
       "    <tr style=\"text-align: right;\">\n",
       "      <th></th>\n",
       "      <th>architecture</th>\n",
       "      <th>timeperiod</th>\n",
       "      <th>eta</th>\n",
       "      <th>epoch</th>\n",
       "      <th>rsme</th>\n",
       "      <th>mae</th>\n",
       "      <th>loss</th>\n",
       "      <th>dropout</th>\n",
       "      <th>runtime</th>\n",
       "      <th>batch_size</th>\n",
       "      <th>best_epoch</th>\n",
       "      <th>val_mae</th>\n",
       "    </tr>\n",
       "  </thead>\n",
       "  <tbody>\n",
       "    <tr>\n",
       "      <th>0</th>\n",
       "      <td>LSTM</td>\n",
       "      <td>30d</td>\n",
       "      <td>0.001</td>\n",
       "      <td>160</td>\n",
       "      <td>248.399546</td>\n",
       "      <td>0.009867</td>\n",
       "      <td>0.000313</td>\n",
       "      <td>0.005980</td>\n",
       "      <td>988</td>\n",
       "      <td>32</td>\n",
       "      <td>0</td>\n",
       "      <td>26904.589844</td>\n",
       "    </tr>\n",
       "    <tr>\n",
       "      <th>1</th>\n",
       "      <td>LSTM</td>\n",
       "      <td>30d</td>\n",
       "      <td>0.001</td>\n",
       "      <td>80</td>\n",
       "      <td>596.239732</td>\n",
       "      <td>0.012274</td>\n",
       "      <td>0.000369</td>\n",
       "      <td>0.004910</td>\n",
       "      <td>534</td>\n",
       "      <td>32</td>\n",
       "      <td>0</td>\n",
       "      <td>26904.601562</td>\n",
       "    </tr>\n",
       "    <tr>\n",
       "      <th>2</th>\n",
       "      <td>LSTM</td>\n",
       "      <td>30d</td>\n",
       "      <td>0.001</td>\n",
       "      <td>40</td>\n",
       "      <td>1305.560367</td>\n",
       "      <td>0.012767</td>\n",
       "      <td>0.000431</td>\n",
       "      <td>0.001942</td>\n",
       "      <td>350</td>\n",
       "      <td>32</td>\n",
       "      <td>1</td>\n",
       "      <td>26904.578125</td>\n",
       "    </tr>\n",
       "  </tbody>\n",
       "</table>\n",
       "</div>"
      ],
      "text/plain": [
       "  architecture timeperiod    eta  epoch         rsme       mae      loss  \\\n",
       "0         LSTM        30d  0.001    160   248.399546  0.009867  0.000313   \n",
       "1         LSTM        30d  0.001     80   596.239732  0.012274  0.000369   \n",
       "2         LSTM        30d  0.001     40  1305.560367  0.012767  0.000431   \n",
       "\n",
       "    dropout  runtime  batch_size  best_epoch       val_mae  \n",
       "0  0.005980      988          32           0  26904.589844  \n",
       "1  0.004910      534          32           0  26904.601562  \n",
       "2  0.001942      350          32           1  26904.578125  "
      ]
     },
     "execution_count": 8,
     "metadata": {},
     "output_type": "execute_result"
    }
   ],
   "source": [
    "df_30d.head(3)"
   ]
  },
  {
   "cell_type": "markdown",
   "id": "c776624a-17e3-4664-a994-a061605f22bd",
   "metadata": {},
   "source": [
    "<h3>Experimento 60d</h3>"
   ]
  },
  {
   "cell_type": "code",
   "execution_count": 9,
   "id": "535ec773-4b43-427c-8613-00057e9a9bb7",
   "metadata": {},
   "outputs": [],
   "source": [
    "df = pd.read_csv('../database/trusted/experimento_60d.csv', sep=',')"
   ]
  },
  {
   "cell_type": "code",
   "execution_count": 10,
   "id": "4aeee4eb-251e-48c9-b883-c3954feb046a",
   "metadata": {},
   "outputs": [
    {
     "data": {
      "text/plain": [
       "Index(['Name', 'layer_3', 'layer_4', 'activation_1', 'epoch', 'dropout',\n",
       "       'learning_rate', 'Runtime', 'Test RSME', 'mae', 'best_epoch',\n",
       "       'best_val_loss', 'loss', 'val_loss', 'val_mae'],\n",
       "      dtype='object')"
      ]
     },
     "execution_count": 10,
     "metadata": {},
     "output_type": "execute_result"
    }
   ],
   "source": [
    "df.columns"
   ]
  },
  {
   "cell_type": "code",
   "execution_count": 11,
   "id": "ebf343ba-b37f-43b6-b6c2-346daad52b56",
   "metadata": {},
   "outputs": [],
   "source": [
    "df['architecture'] = 'LSTM'\n",
    "df['timeperiod'] = '60d'\n",
    "df['batch_size'] = '32'"
   ]
  },
  {
   "cell_type": "code",
   "execution_count": 12,
   "id": "ad90225d-093b-4af5-bf78-69467dfc844c",
   "metadata": {},
   "outputs": [
    {
     "data": {
      "text/html": [
       "<div>\n",
       "<style scoped>\n",
       "    .dataframe tbody tr th:only-of-type {\n",
       "        vertical-align: middle;\n",
       "    }\n",
       "\n",
       "    .dataframe tbody tr th {\n",
       "        vertical-align: top;\n",
       "    }\n",
       "\n",
       "    .dataframe thead th {\n",
       "        text-align: right;\n",
       "    }\n",
       "</style>\n",
       "<table border=\"1\" class=\"dataframe\">\n",
       "  <thead>\n",
       "    <tr style=\"text-align: right;\">\n",
       "      <th></th>\n",
       "      <th>Name</th>\n",
       "      <th>layer_3</th>\n",
       "      <th>layer_4</th>\n",
       "      <th>activation_1</th>\n",
       "      <th>epoch</th>\n",
       "      <th>dropout</th>\n",
       "      <th>learning_rate</th>\n",
       "      <th>Runtime</th>\n",
       "      <th>Test RSME</th>\n",
       "      <th>mae</th>\n",
       "      <th>best_epoch</th>\n",
       "      <th>best_val_loss</th>\n",
       "      <th>loss</th>\n",
       "      <th>val_loss</th>\n",
       "      <th>val_mae</th>\n",
       "      <th>architecture</th>\n",
       "      <th>timeperiod</th>\n",
       "      <th>batch_size</th>\n",
       "    </tr>\n",
       "  </thead>\n",
       "  <tbody>\n",
       "    <tr>\n",
       "      <th>0</th>\n",
       "      <td>winter-dream-37</td>\n",
       "      <td>50</td>\n",
       "      <td>1</td>\n",
       "      <td>tanh</td>\n",
       "      <td>160</td>\n",
       "      <td>0.005710</td>\n",
       "      <td>0.1</td>\n",
       "      <td>1378</td>\n",
       "      <td>11519.944736</td>\n",
       "      <td>0.243739</td>\n",
       "      <td>38</td>\n",
       "      <td>818297216</td>\n",
       "      <td>0.081912</td>\n",
       "      <td>818306752</td>\n",
       "      <td>26904.769531</td>\n",
       "      <td>LSTM</td>\n",
       "      <td>60d</td>\n",
       "      <td>32</td>\n",
       "    </tr>\n",
       "    <tr>\n",
       "      <th>1</th>\n",
       "      <td>copper-terrain-36</td>\n",
       "      <td>50</td>\n",
       "      <td>1</td>\n",
       "      <td>tanh</td>\n",
       "      <td>80</td>\n",
       "      <td>0.001027</td>\n",
       "      <td>0.1</td>\n",
       "      <td>579</td>\n",
       "      <td>40661.865811</td>\n",
       "      <td>0.755096</td>\n",
       "      <td>0</td>\n",
       "      <td>818263040</td>\n",
       "      <td>0.649895</td>\n",
       "      <td>818263040</td>\n",
       "      <td>26903.962891</td>\n",
       "      <td>LSTM</td>\n",
       "      <td>60d</td>\n",
       "      <td>32</td>\n",
       "    </tr>\n",
       "    <tr>\n",
       "      <th>2</th>\n",
       "      <td>revived-flower-35</td>\n",
       "      <td>50</td>\n",
       "      <td>1</td>\n",
       "      <td>tanh</td>\n",
       "      <td>40</td>\n",
       "      <td>0.004856</td>\n",
       "      <td>0.1</td>\n",
       "      <td>312</td>\n",
       "      <td>40661.865811</td>\n",
       "      <td>0.755096</td>\n",
       "      <td>0</td>\n",
       "      <td>818263040</td>\n",
       "      <td>0.649895</td>\n",
       "      <td>818263040</td>\n",
       "      <td>26903.962891</td>\n",
       "      <td>LSTM</td>\n",
       "      <td>60d</td>\n",
       "      <td>32</td>\n",
       "    </tr>\n",
       "  </tbody>\n",
       "</table>\n",
       "</div>"
      ],
      "text/plain": [
       "                Name  layer_3  layer_4 activation_1  epoch   dropout  \\\n",
       "0    winter-dream-37       50        1         tanh    160  0.005710   \n",
       "1  copper-terrain-36       50        1         tanh     80  0.001027   \n",
       "2  revived-flower-35       50        1         tanh     40  0.004856   \n",
       "\n",
       "   learning_rate  Runtime     Test RSME       mae  best_epoch  best_val_loss  \\\n",
       "0            0.1     1378  11519.944736  0.243739          38      818297216   \n",
       "1            0.1      579  40661.865811  0.755096           0      818263040   \n",
       "2            0.1      312  40661.865811  0.755096           0      818263040   \n",
       "\n",
       "       loss   val_loss       val_mae architecture timeperiod batch_size  \n",
       "0  0.081912  818306752  26904.769531         LSTM        60d         32  \n",
       "1  0.649895  818263040  26903.962891         LSTM        60d         32  \n",
       "2  0.649895  818263040  26903.962891         LSTM        60d         32  "
      ]
     },
     "execution_count": 12,
     "metadata": {},
     "output_type": "execute_result"
    }
   ],
   "source": [
    "df.head(3)"
   ]
  },
  {
   "cell_type": "code",
   "execution_count": 13,
   "id": "a51df8a0-21e1-4c1a-aa0c-8684b9443270",
   "metadata": {},
   "outputs": [
    {
     "data": {
      "text/plain": [
       "Index(['Name', 'layer_3', 'layer_4', 'activation_1', 'epoch', 'dropout',\n",
       "       'learning_rate', 'Runtime', 'Test RSME', 'mae', 'best_epoch',\n",
       "       'best_val_loss', 'loss', 'val_loss', 'val_mae', 'architecture',\n",
       "       'timeperiod', 'batch_size'],\n",
       "      dtype='object')"
      ]
     },
     "execution_count": 13,
     "metadata": {},
     "output_type": "execute_result"
    }
   ],
   "source": [
    "df.columns"
   ]
  },
  {
   "cell_type": "code",
   "execution_count": 14,
   "id": "369b4dd7-49a6-4d09-98d3-1990249a9c19",
   "metadata": {},
   "outputs": [],
   "source": [
    "columns = ['architecture','timeperiod', 'learning_rate', \n",
    "           'epoch', 'Test RSME', 'mae',\n",
    "           'loss', 'dropout', 'Runtime',\n",
    "           'batch_size','best_epoch', 'val_mae']\n",
    "\n",
    "df = df[columns]\n",
    "\n",
    "df_60d = df.rename(columns={'Test RSME': 'rsme',\n",
    "                           'learning_rate':'eta',\n",
    "                           'Runtime':'runtime'})"
   ]
  },
  {
   "cell_type": "code",
   "execution_count": 15,
   "id": "9c9b0e9b-200c-4997-ae74-ce4fb9e34475",
   "metadata": {},
   "outputs": [
    {
     "data": {
      "text/html": [
       "<div>\n",
       "<style scoped>\n",
       "    .dataframe tbody tr th:only-of-type {\n",
       "        vertical-align: middle;\n",
       "    }\n",
       "\n",
       "    .dataframe tbody tr th {\n",
       "        vertical-align: top;\n",
       "    }\n",
       "\n",
       "    .dataframe thead th {\n",
       "        text-align: right;\n",
       "    }\n",
       "</style>\n",
       "<table border=\"1\" class=\"dataframe\">\n",
       "  <thead>\n",
       "    <tr style=\"text-align: right;\">\n",
       "      <th></th>\n",
       "      <th>architecture</th>\n",
       "      <th>timeperiod</th>\n",
       "      <th>eta</th>\n",
       "      <th>epoch</th>\n",
       "      <th>rsme</th>\n",
       "      <th>mae</th>\n",
       "      <th>loss</th>\n",
       "      <th>dropout</th>\n",
       "      <th>runtime</th>\n",
       "      <th>batch_size</th>\n",
       "      <th>best_epoch</th>\n",
       "      <th>val_mae</th>\n",
       "    </tr>\n",
       "  </thead>\n",
       "  <tbody>\n",
       "    <tr>\n",
       "      <th>0</th>\n",
       "      <td>LSTM</td>\n",
       "      <td>60d</td>\n",
       "      <td>0.1</td>\n",
       "      <td>160</td>\n",
       "      <td>11519.944736</td>\n",
       "      <td>0.243739</td>\n",
       "      <td>0.081912</td>\n",
       "      <td>0.005710</td>\n",
       "      <td>1378</td>\n",
       "      <td>32</td>\n",
       "      <td>38</td>\n",
       "      <td>26904.769531</td>\n",
       "    </tr>\n",
       "    <tr>\n",
       "      <th>1</th>\n",
       "      <td>LSTM</td>\n",
       "      <td>60d</td>\n",
       "      <td>0.1</td>\n",
       "      <td>80</td>\n",
       "      <td>40661.865811</td>\n",
       "      <td>0.755096</td>\n",
       "      <td>0.649895</td>\n",
       "      <td>0.001027</td>\n",
       "      <td>579</td>\n",
       "      <td>32</td>\n",
       "      <td>0</td>\n",
       "      <td>26903.962891</td>\n",
       "    </tr>\n",
       "    <tr>\n",
       "      <th>2</th>\n",
       "      <td>LSTM</td>\n",
       "      <td>60d</td>\n",
       "      <td>0.1</td>\n",
       "      <td>40</td>\n",
       "      <td>40661.865811</td>\n",
       "      <td>0.755096</td>\n",
       "      <td>0.649895</td>\n",
       "      <td>0.004856</td>\n",
       "      <td>312</td>\n",
       "      <td>32</td>\n",
       "      <td>0</td>\n",
       "      <td>26903.962891</td>\n",
       "    </tr>\n",
       "  </tbody>\n",
       "</table>\n",
       "</div>"
      ],
      "text/plain": [
       "  architecture timeperiod  eta  epoch          rsme       mae      loss  \\\n",
       "0         LSTM        60d  0.1    160  11519.944736  0.243739  0.081912   \n",
       "1         LSTM        60d  0.1     80  40661.865811  0.755096  0.649895   \n",
       "2         LSTM        60d  0.1     40  40661.865811  0.755096  0.649895   \n",
       "\n",
       "    dropout  runtime batch_size  best_epoch       val_mae  \n",
       "0  0.005710     1378         32          38  26904.769531  \n",
       "1  0.001027      579         32           0  26903.962891  \n",
       "2  0.004856      312         32           0  26903.962891  "
      ]
     },
     "execution_count": 15,
     "metadata": {},
     "output_type": "execute_result"
    }
   ],
   "source": [
    "df_60d.head(3)"
   ]
  },
  {
   "cell_type": "markdown",
   "id": "9d6693c7-d64b-4631-9714-44f6db348092",
   "metadata": {},
   "source": [
    "<h3>Concatenate Dataset</h3>"
   ]
  },
  {
   "cell_type": "code",
   "execution_count": 16,
   "id": "f295bc0c-2752-4c02-81fa-de6116e8c013",
   "metadata": {},
   "outputs": [
    {
     "data": {
      "text/html": [
       "<div>\n",
       "<style scoped>\n",
       "    .dataframe tbody tr th:only-of-type {\n",
       "        vertical-align: middle;\n",
       "    }\n",
       "\n",
       "    .dataframe tbody tr th {\n",
       "        vertical-align: top;\n",
       "    }\n",
       "\n",
       "    .dataframe thead th {\n",
       "        text-align: right;\n",
       "    }\n",
       "</style>\n",
       "<table border=\"1\" class=\"dataframe\">\n",
       "  <thead>\n",
       "    <tr style=\"text-align: right;\">\n",
       "      <th></th>\n",
       "      <th>architecture</th>\n",
       "      <th>timeperiod</th>\n",
       "      <th>eta</th>\n",
       "      <th>epoch</th>\n",
       "      <th>rsme</th>\n",
       "      <th>mae</th>\n",
       "      <th>loss</th>\n",
       "      <th>dropout</th>\n",
       "      <th>runtime</th>\n",
       "      <th>batch_size</th>\n",
       "      <th>best_epoch</th>\n",
       "      <th>val_mae</th>\n",
       "    </tr>\n",
       "  </thead>\n",
       "  <tbody>\n",
       "    <tr>\n",
       "      <th>0</th>\n",
       "      <td>LSTM</td>\n",
       "      <td>10d</td>\n",
       "      <td>0.001</td>\n",
       "      <td>160</td>\n",
       "      <td>757.746260</td>\n",
       "      <td>0.010197</td>\n",
       "      <td>0.000298</td>\n",
       "      <td>0.006381</td>\n",
       "      <td>622</td>\n",
       "      <td>32</td>\n",
       "      <td>7</td>\n",
       "      <td>26904.582031</td>\n",
       "    </tr>\n",
       "    <tr>\n",
       "      <th>1</th>\n",
       "      <td>LSTM</td>\n",
       "      <td>10d</td>\n",
       "      <td>0.001</td>\n",
       "      <td>80</td>\n",
       "      <td>410.893483</td>\n",
       "      <td>0.011433</td>\n",
       "      <td>0.000384</td>\n",
       "      <td>0.008570</td>\n",
       "      <td>445</td>\n",
       "      <td>32</td>\n",
       "      <td>14</td>\n",
       "      <td>26904.589844</td>\n",
       "    </tr>\n",
       "    <tr>\n",
       "      <th>2</th>\n",
       "      <td>LSTM</td>\n",
       "      <td>10d</td>\n",
       "      <td>0.001</td>\n",
       "      <td>40</td>\n",
       "      <td>89.090010</td>\n",
       "      <td>0.013419</td>\n",
       "      <td>0.000517</td>\n",
       "      <td>0.008584</td>\n",
       "      <td>318</td>\n",
       "      <td>32</td>\n",
       "      <td>15</td>\n",
       "      <td>26904.595703</td>\n",
       "    </tr>\n",
       "  </tbody>\n",
       "</table>\n",
       "</div>"
      ],
      "text/plain": [
       "  architecture timeperiod    eta  epoch        rsme       mae      loss  \\\n",
       "0         LSTM        10d  0.001    160  757.746260  0.010197  0.000298   \n",
       "1         LSTM        10d  0.001     80  410.893483  0.011433  0.000384   \n",
       "2         LSTM        10d  0.001     40   89.090010  0.013419  0.000517   \n",
       "\n",
       "    dropout  runtime batch_size  best_epoch       val_mae  \n",
       "0  0.006381      622         32           7  26904.582031  \n",
       "1  0.008570      445         32          14  26904.589844  \n",
       "2  0.008584      318         32          15  26904.595703  "
      ]
     },
     "execution_count": 16,
     "metadata": {},
     "output_type": "execute_result"
    }
   ],
   "source": [
    "df = pd.concat([df_10d, df_30d, df_60d])\n",
    "\n",
    "df.head(3)"
   ]
  },
  {
   "cell_type": "code",
   "execution_count": 17,
   "id": "d07e7805-92cf-47f3-a810-c2d4fdafa396",
   "metadata": {},
   "outputs": [
    {
     "data": {
      "text/plain": [
       "Index(['architecture', 'timeperiod', 'eta', 'epoch', 'rsme', 'mae', 'loss',\n",
       "       'dropout', 'runtime', 'batch_size', 'best_epoch', 'val_mae'],\n",
       "      dtype='object')"
      ]
     },
     "execution_count": 17,
     "metadata": {},
     "output_type": "execute_result"
    }
   ],
   "source": [
    "df.columns"
   ]
  },
  {
   "cell_type": "code",
   "execution_count": 18,
   "id": "a4aa0091-8d10-41f9-9ec2-42ebefff881e",
   "metadata": {},
   "outputs": [],
   "source": [
    "columns = ['timeperiod', 'eta', \n",
    "           'epoch', 'rsme', \n",
    "           'mae', 'loss',\n",
    "           'dropout', 'runtime']"
   ]
  },
  {
   "cell_type": "code",
   "execution_count": 19,
   "id": "62b453cb-9276-425e-b4fa-9bc97ab0a77e",
   "metadata": {},
   "outputs": [
    {
     "data": {
      "text/html": [
       "<div>\n",
       "<style scoped>\n",
       "    .dataframe tbody tr th:only-of-type {\n",
       "        vertical-align: middle;\n",
       "    }\n",
       "\n",
       "    .dataframe tbody tr th {\n",
       "        vertical-align: top;\n",
       "    }\n",
       "\n",
       "    .dataframe thead th {\n",
       "        text-align: right;\n",
       "    }\n",
       "</style>\n",
       "<table border=\"1\" class=\"dataframe\">\n",
       "  <thead>\n",
       "    <tr style=\"text-align: right;\">\n",
       "      <th></th>\n",
       "      <th>timeperiod</th>\n",
       "      <th>eta</th>\n",
       "      <th>epoch</th>\n",
       "      <th>rsme</th>\n",
       "      <th>mae</th>\n",
       "      <th>loss</th>\n",
       "      <th>dropout</th>\n",
       "      <th>runtime</th>\n",
       "    </tr>\n",
       "  </thead>\n",
       "  <tbody>\n",
       "    <tr>\n",
       "      <th>0</th>\n",
       "      <td>10d</td>\n",
       "      <td>0.001</td>\n",
       "      <td>160</td>\n",
       "      <td>757.746260</td>\n",
       "      <td>0.010197</td>\n",
       "      <td>0.000298</td>\n",
       "      <td>0.006381</td>\n",
       "      <td>622</td>\n",
       "    </tr>\n",
       "    <tr>\n",
       "      <th>1</th>\n",
       "      <td>10d</td>\n",
       "      <td>0.001</td>\n",
       "      <td>80</td>\n",
       "      <td>410.893483</td>\n",
       "      <td>0.011433</td>\n",
       "      <td>0.000384</td>\n",
       "      <td>0.008570</td>\n",
       "      <td>445</td>\n",
       "    </tr>\n",
       "    <tr>\n",
       "      <th>2</th>\n",
       "      <td>10d</td>\n",
       "      <td>0.001</td>\n",
       "      <td>40</td>\n",
       "      <td>89.090010</td>\n",
       "      <td>0.013419</td>\n",
       "      <td>0.000517</td>\n",
       "      <td>0.008584</td>\n",
       "      <td>318</td>\n",
       "    </tr>\n",
       "    <tr>\n",
       "      <th>3</th>\n",
       "      <td>10d</td>\n",
       "      <td>0.001</td>\n",
       "      <td>20</td>\n",
       "      <td>643.958497</td>\n",
       "      <td>0.018701</td>\n",
       "      <td>0.000977</td>\n",
       "      <td>0.004386</td>\n",
       "      <td>209</td>\n",
       "    </tr>\n",
       "    <tr>\n",
       "      <th>4</th>\n",
       "      <td>10d</td>\n",
       "      <td>0.001</td>\n",
       "      <td>10</td>\n",
       "      <td>1290.484714</td>\n",
       "      <td>0.022167</td>\n",
       "      <td>0.001376</td>\n",
       "      <td>0.002848</td>\n",
       "      <td>146</td>\n",
       "    </tr>\n",
       "    <tr>\n",
       "      <th>5</th>\n",
       "      <td>10d</td>\n",
       "      <td>0.001</td>\n",
       "      <td>5</td>\n",
       "      <td>1121.121877</td>\n",
       "      <td>0.022889</td>\n",
       "      <td>0.001397</td>\n",
       "      <td>0.009634</td>\n",
       "      <td>127</td>\n",
       "    </tr>\n",
       "  </tbody>\n",
       "</table>\n",
       "</div>"
      ],
      "text/plain": [
       "  timeperiod    eta  epoch         rsme       mae      loss   dropout  runtime\n",
       "0        10d  0.001    160   757.746260  0.010197  0.000298  0.006381      622\n",
       "1        10d  0.001     80   410.893483  0.011433  0.000384  0.008570      445\n",
       "2        10d  0.001     40    89.090010  0.013419  0.000517  0.008584      318\n",
       "3        10d  0.001     20   643.958497  0.018701  0.000977  0.004386      209\n",
       "4        10d  0.001     10  1290.484714  0.022167  0.001376  0.002848      146\n",
       "5        10d  0.001      5  1121.121877  0.022889  0.001397  0.009634      127"
      ]
     },
     "execution_count": 19,
     "metadata": {},
     "output_type": "execute_result"
    }
   ],
   "source": [
    "df = df[columns]\n",
    "\n",
    "df.head(6)"
   ]
  },
  {
   "cell_type": "code",
   "execution_count": 20,
   "id": "81ca6800-6815-49d9-a684-9ea66e1595c9",
   "metadata": {},
   "outputs": [
    {
     "name": "stdout",
     "output_type": "stream",
     "text": [
      "<class 'pandas.core.frame.DataFrame'>\n",
      "Int64Index: 54 entries, 0 to 17\n",
      "Data columns (total 8 columns):\n",
      " #   Column      Non-Null Count  Dtype  \n",
      "---  ------      --------------  -----  \n",
      " 0   timeperiod  54 non-null     object \n",
      " 1   eta         54 non-null     float64\n",
      " 2   epoch       54 non-null     int64  \n",
      " 3   rsme        54 non-null     float64\n",
      " 4   mae         54 non-null     float64\n",
      " 5   loss        54 non-null     float64\n",
      " 6   dropout     54 non-null     float64\n",
      " 7   runtime     54 non-null     int64  \n",
      "dtypes: float64(5), int64(2), object(1)\n",
      "memory usage: 3.8+ KB\n"
     ]
    }
   ],
   "source": [
    "df.info()"
   ]
  },
  {
   "cell_type": "code",
   "execution_count": 21,
   "id": "9a467b6a-7620-4279-983d-b4afee6901c0",
   "metadata": {},
   "outputs": [
    {
     "data": {
      "text/plain": [
       "0       757.746260\n",
       "1       410.893483\n",
       "2        89.090010\n",
       "3       643.958497\n",
       "4      1290.484714\n",
       "5      1121.121877\n",
       "6        33.816930\n",
       "7      1283.761835\n",
       "8      1390.103407\n",
       "9       539.716797\n",
       "10      282.325653\n",
       "11      136.282875\n",
       "12    40661.865811\n",
       "13    40661.865811\n",
       "14    40661.865811\n",
       "15     1401.254478\n",
       "16    40661.865811\n",
       "17     4191.254060\n",
       "0       248.399546\n",
       "1       596.239732\n",
       "2      1305.560367\n",
       "3       384.919546\n",
       "4      2589.183604\n",
       "5       593.720179\n",
       "6      1031.912930\n",
       "7       663.971423\n",
       "8       998.497533\n",
       "9       299.192523\n",
       "10     1312.738197\n",
       "11      307.381677\n",
       "12    14423.941806\n",
       "13    40661.865811\n",
       "14    20806.632236\n",
       "15    40661.865811\n",
       "16    40661.865811\n",
       "17     4759.947843\n",
       "0     11519.944736\n",
       "1     40661.865811\n",
       "2     40661.865811\n",
       "3     40661.865811\n",
       "4     40661.865811\n",
       "5     40661.865811\n",
       "6       285.890911\n",
       "7        65.438580\n",
       "8        73.425128\n",
       "9      1675.864186\n",
       "10      415.320889\n",
       "11      241.272030\n",
       "12      496.599114\n",
       "13      344.491841\n",
       "14       99.379020\n",
       "15     2378.574981\n",
       "16      787.385425\n",
       "17     3572.045366\n",
       "Name: rsme, dtype: float64"
      ]
     },
     "execution_count": 21,
     "metadata": {},
     "output_type": "execute_result"
    }
   ],
   "source": [
    "df['rsme']"
   ]
  },
  {
   "cell_type": "code",
   "execution_count": 22,
   "id": "d751d4b1-27fe-4bea-99c3-ab3973e74cad",
   "metadata": {},
   "outputs": [
    {
     "data": {
      "text/html": [
       "<div>\n",
       "<style scoped>\n",
       "    .dataframe tbody tr th:only-of-type {\n",
       "        vertical-align: middle;\n",
       "    }\n",
       "\n",
       "    .dataframe tbody tr th {\n",
       "        vertical-align: top;\n",
       "    }\n",
       "\n",
       "    .dataframe thead th {\n",
       "        text-align: right;\n",
       "    }\n",
       "</style>\n",
       "<table border=\"1\" class=\"dataframe\">\n",
       "  <thead>\n",
       "    <tr style=\"text-align: right;\">\n",
       "      <th></th>\n",
       "      <th>timeperiod</th>\n",
       "      <th>eta</th>\n",
       "      <th>epoch</th>\n",
       "      <th>rsme</th>\n",
       "      <th>mae</th>\n",
       "      <th>loss</th>\n",
       "      <th>dropout</th>\n",
       "      <th>runtime</th>\n",
       "      <th>mape</th>\n",
       "    </tr>\n",
       "  </thead>\n",
       "  <tbody>\n",
       "    <tr>\n",
       "      <th>0</th>\n",
       "      <td>10d</td>\n",
       "      <td>0.001</td>\n",
       "      <td>160</td>\n",
       "      <td>757.746260</td>\n",
       "      <td>0.010197</td>\n",
       "      <td>0.000298</td>\n",
       "      <td>0.006381</td>\n",
       "      <td>622</td>\n",
       "      <td>1.019687</td>\n",
       "    </tr>\n",
       "    <tr>\n",
       "      <th>1</th>\n",
       "      <td>10d</td>\n",
       "      <td>0.001</td>\n",
       "      <td>80</td>\n",
       "      <td>410.893483</td>\n",
       "      <td>0.011433</td>\n",
       "      <td>0.000384</td>\n",
       "      <td>0.008570</td>\n",
       "      <td>445</td>\n",
       "      <td>1.143271</td>\n",
       "    </tr>\n",
       "    <tr>\n",
       "      <th>2</th>\n",
       "      <td>10d</td>\n",
       "      <td>0.001</td>\n",
       "      <td>40</td>\n",
       "      <td>89.090010</td>\n",
       "      <td>0.013419</td>\n",
       "      <td>0.000517</td>\n",
       "      <td>0.008584</td>\n",
       "      <td>318</td>\n",
       "      <td>1.341928</td>\n",
       "    </tr>\n",
       "  </tbody>\n",
       "</table>\n",
       "</div>"
      ],
      "text/plain": [
       "  timeperiod    eta  epoch        rsme       mae      loss   dropout  runtime  \\\n",
       "0        10d  0.001    160  757.746260  0.010197  0.000298  0.006381      622   \n",
       "1        10d  0.001     80  410.893483  0.011433  0.000384  0.008570      445   \n",
       "2        10d  0.001     40   89.090010  0.013419  0.000517  0.008584      318   \n",
       "\n",
       "       mape  \n",
       "0  1.019687  \n",
       "1  1.143271  \n",
       "2  1.341928  "
      ]
     },
     "execution_count": 22,
     "metadata": {},
     "output_type": "execute_result"
    }
   ],
   "source": [
    "df['mape'] = df['mae']*100\n",
    "\n",
    "df.head(3)"
   ]
  },
  {
   "cell_type": "code",
   "execution_count": 23,
   "id": "b9039279-594b-460f-aafb-358b3cc0fa90",
   "metadata": {},
   "outputs": [
    {
     "name": "stdout",
     "output_type": "stream",
     "text": [
      "<class 'pandas.core.frame.DataFrame'>\n",
      "Int64Index: 54 entries, 0 to 17\n",
      "Data columns (total 9 columns):\n",
      " #   Column      Non-Null Count  Dtype  \n",
      "---  ------      --------------  -----  \n",
      " 0   timeperiod  54 non-null     object \n",
      " 1   eta         54 non-null     float64\n",
      " 2   epoch       54 non-null     int64  \n",
      " 3   rsme        54 non-null     float64\n",
      " 4   mae         54 non-null     float64\n",
      " 5   loss        54 non-null     float64\n",
      " 6   dropout     54 non-null     float64\n",
      " 7   runtime     54 non-null     int64  \n",
      " 8   mape        54 non-null     float64\n",
      "dtypes: float64(6), int64(2), object(1)\n",
      "memory usage: 4.2+ KB\n"
     ]
    }
   ],
   "source": [
    "df.info()"
   ]
  },
  {
   "cell_type": "code",
   "execution_count": 24,
   "id": "daf35ebe-6285-496a-8982-de25cdd5a92a",
   "metadata": {},
   "outputs": [
    {
     "data": {
      "text/html": [
       "<div>\n",
       "<style scoped>\n",
       "    .dataframe tbody tr th:only-of-type {\n",
       "        vertical-align: middle;\n",
       "    }\n",
       "\n",
       "    .dataframe tbody tr th {\n",
       "        vertical-align: top;\n",
       "    }\n",
       "\n",
       "    .dataframe thead th {\n",
       "        text-align: right;\n",
       "    }\n",
       "</style>\n",
       "<table border=\"1\" class=\"dataframe\">\n",
       "  <thead>\n",
       "    <tr style=\"text-align: right;\">\n",
       "      <th></th>\n",
       "      <th>timeperiod</th>\n",
       "      <th>eta</th>\n",
       "      <th>epoch</th>\n",
       "      <th>rsme</th>\n",
       "      <th>mae</th>\n",
       "      <th>loss</th>\n",
       "      <th>dropout</th>\n",
       "      <th>runtime</th>\n",
       "      <th>mape</th>\n",
       "    </tr>\n",
       "  </thead>\n",
       "  <tbody>\n",
       "    <tr>\n",
       "      <th>2</th>\n",
       "      <td>10d</td>\n",
       "      <td>0.001</td>\n",
       "      <td>40</td>\n",
       "      <td>89.090010</td>\n",
       "      <td>0.013419</td>\n",
       "      <td>0.000517</td>\n",
       "      <td>0.008584</td>\n",
       "      <td>318</td>\n",
       "      <td>1.341928</td>\n",
       "    </tr>\n",
       "    <tr>\n",
       "      <th>6</th>\n",
       "      <td>10d</td>\n",
       "      <td>0.010</td>\n",
       "      <td>160</td>\n",
       "      <td>33.816930</td>\n",
       "      <td>0.011288</td>\n",
       "      <td>0.000317</td>\n",
       "      <td>0.007995</td>\n",
       "      <td>552</td>\n",
       "      <td>1.128799</td>\n",
       "    </tr>\n",
       "    <tr>\n",
       "      <th>11</th>\n",
       "      <td>10d</td>\n",
       "      <td>0.010</td>\n",
       "      <td>5</td>\n",
       "      <td>136.282875</td>\n",
       "      <td>0.029740</td>\n",
       "      <td>0.001785</td>\n",
       "      <td>0.003585</td>\n",
       "      <td>169</td>\n",
       "      <td>2.974040</td>\n",
       "    </tr>\n",
       "    <tr>\n",
       "      <th>7</th>\n",
       "      <td>60d</td>\n",
       "      <td>0.010</td>\n",
       "      <td>80</td>\n",
       "      <td>65.438580</td>\n",
       "      <td>0.015225</td>\n",
       "      <td>0.000569</td>\n",
       "      <td>0.003454</td>\n",
       "      <td>685</td>\n",
       "      <td>1.522492</td>\n",
       "    </tr>\n",
       "    <tr>\n",
       "      <th>8</th>\n",
       "      <td>60d</td>\n",
       "      <td>0.010</td>\n",
       "      <td>40</td>\n",
       "      <td>73.425128</td>\n",
       "      <td>0.011850</td>\n",
       "      <td>0.000383</td>\n",
       "      <td>0.008988</td>\n",
       "      <td>378</td>\n",
       "      <td>1.185045</td>\n",
       "    </tr>\n",
       "    <tr>\n",
       "      <th>14</th>\n",
       "      <td>60d</td>\n",
       "      <td>0.001</td>\n",
       "      <td>40</td>\n",
       "      <td>99.379020</td>\n",
       "      <td>0.013228</td>\n",
       "      <td>0.000452</td>\n",
       "      <td>0.006182</td>\n",
       "      <td>392</td>\n",
       "      <td>1.322779</td>\n",
       "    </tr>\n",
       "  </tbody>\n",
       "</table>\n",
       "</div>"
      ],
      "text/plain": [
       "   timeperiod    eta  epoch        rsme       mae      loss   dropout  \\\n",
       "2         10d  0.001     40   89.090010  0.013419  0.000517  0.008584   \n",
       "6         10d  0.010    160   33.816930  0.011288  0.000317  0.007995   \n",
       "11        10d  0.010      5  136.282875  0.029740  0.001785  0.003585   \n",
       "7         60d  0.010     80   65.438580  0.015225  0.000569  0.003454   \n",
       "8         60d  0.010     40   73.425128  0.011850  0.000383  0.008988   \n",
       "14        60d  0.001     40   99.379020  0.013228  0.000452  0.006182   \n",
       "\n",
       "    runtime      mape  \n",
       "2       318  1.341928  \n",
       "6       552  1.128799  \n",
       "11      169  2.974040  \n",
       "7       685  1.522492  \n",
       "8       378  1.185045  \n",
       "14      392  1.322779  "
      ]
     },
     "execution_count": 24,
     "metadata": {},
     "output_type": "execute_result"
    }
   ],
   "source": [
    "df[df['rsme'] < 200]"
   ]
  },
  {
   "cell_type": "code",
   "execution_count": 25,
   "id": "f203709c-d9e2-4212-b131-6bb6d68d8fe8",
   "metadata": {},
   "outputs": [
    {
     "name": "stdout",
     "output_type": "stream",
     "text": [
      "<class 'pandas.core.frame.DataFrame'>\n",
      "Int64Index: 54 entries, 0 to 17\n",
      "Data columns (total 9 columns):\n",
      " #   Column      Non-Null Count  Dtype  \n",
      "---  ------      --------------  -----  \n",
      " 0   timeperiod  54 non-null     object \n",
      " 1   eta         54 non-null     float64\n",
      " 2   epoch       54 non-null     int64  \n",
      " 3   rsme        54 non-null     float64\n",
      " 4   mae         54 non-null     float64\n",
      " 5   loss        54 non-null     float64\n",
      " 6   dropout     54 non-null     float64\n",
      " 7   runtime     54 non-null     int64  \n",
      " 8   mape        54 non-null     float64\n",
      "dtypes: float64(6), int64(2), object(1)\n",
      "memory usage: 4.2+ KB\n"
     ]
    }
   ],
   "source": [
    "df.info()"
   ]
  },
  {
   "cell_type": "code",
   "execution_count": 26,
   "id": "fe6c58f1-bc33-4fd6-9d4d-011fab42e2f1",
   "metadata": {},
   "outputs": [],
   "source": [
    "df.to_csv('experimento-a.csv')"
   ]
  },
  {
   "cell_type": "code",
   "execution_count": 31,
   "id": "8b5d8f58-01d7-478e-9d7b-a39abf286371",
   "metadata": {},
   "outputs": [],
   "source": [
    "from yahoo_fin.stock_info import get_data\n",
    "import datetime as dt\n",
    "import time as time\n",
    "\n",
    "START_DATE = dt.datetime(2018,1,1)\n",
    "\n",
    "END_DATE = dt.datetime(2023,1,22)\n",
    "\n",
    "dataset = get_data('BTC-USD', \n",
    "                   start_date=START_DATE, \n",
    "                   end_date=END_DATE, \n",
    "                   index_as_date = True, \n",
    "                   interval=\"1d\")\n",
    "\n",
    "dataset = dataset.dropna()\n",
    "\n",
    "dataset_total = dataset.iloc[:,3:4].dropna()"
   ]
  },
  {
   "cell_type": "code",
   "execution_count": 33,
   "id": "30982e0f-3ecd-4163-90b9-4aa07f3f1b6a",
   "metadata": {},
   "outputs": [],
   "source": [
    "dataset_total.to_csv('bitcoin.csv')"
   ]
  },
  {
   "cell_type": "code",
   "execution_count": 80,
   "id": "22923734-ae15-44ca-a209-944f5f3057b7",
   "metadata": {},
   "outputs": [
    {
     "data": {
      "image/png": "[encoded data removed]",
      "text/plain": [
       "<Figure size 640x480 with 1 Axes>"
      ]
     },
     "metadata": {},
     "output_type": "display_data"
    }
   ],
   "source": [
    "sns.barplot(x='eta', y='mape', hue='timeperiod', data=df)\n",
    "plt.show()"
   ]
  },
  {
   "cell_type": "code",
   "execution_count": null,
   "id": "dd2a3029-c44a-45f2-ade4-b4398aa5ad4d",
   "metadata": {},
   "outputs": [],
   "source": [
    "sns.barplot(hue='epoch', y='mape', x='timeperiod', data=df)\n",
    "plt.show()"
   ]
  },
  {
   "cell_type": "code",
   "execution_count": 87,
   "id": "98c58721-e655-44bc-a05d-db4178dff6ba",
   "metadata": {},
   "outputs": [
    {
     "data": {
      "image/png": "[encoded data removed]",
      "text/plain": [
       "<Figure size 640x480 with 1 Axes>"
      ]
     },
     "metadata": {},
     "output_type": "display_data"
    }
   ],
   "source": [
    "sns.barplot(hue='eta', y='mape', x='timeperiod', data=df)\n",
    "plt.show()"
   ]
  },
  {
   "cell_type": "code",
   "execution_count": 90,
   "id": "cb03db5e-4720-4e01-8c55-05dcca951b3f",
   "metadata": {},
   "outputs": [
    {
     "data": {
      "image/png": "[encoded data removed]",
      "text/plain": [
       "<Figure size 640x480 with 1 Axes>"
      ]
     },
     "metadata": {},
     "output_type": "display_data"
    }
   ],
   "source": [
    "sns.barplot(x='epoch', y='mape', hue='timeperiod', data=df)\n",
    "plt.show()"
   ]
  },
  {
   "cell_type": "code",
   "execution_count": 82,
   "id": "890fcf87-b48d-4610-802a-388860ce9d75",
   "metadata": {},
   "outputs": [
    {
     "data": {
      "image/png": "[encoded data removed]",
      "text/plain": [
       "<Figure size 640x480 with 1 Axes>"
      ]
     },
     "metadata": {},
     "output_type": "display_data"
    }
   ],
   "source": [
    "sns.barplot(x='epoch', y='mape', hue='eta', data=df[df['timeperiod']=='10d'])\n",
    "plt.show()"
   ]
  },
  {
   "cell_type": "code",
   "execution_count": 83,
   "id": "92eb9400-5634-4ecb-a2aa-18af7a345188",
   "metadata": {},
   "outputs": [
    {
     "data": {
      "image/png": "[encoded data removed]",
      "text/plain": [
       "<Figure size 640x480 with 1 Axes>"
      ]
     },
     "metadata": {},
     "output_type": "display_data"
    }
   ],
   "source": [
    "sns.barplot(x='epoch', y='mape', hue='eta', data=df[df['timeperiod']=='30d'])\n",
    "plt.show()"
   ]
  },
  {
   "cell_type": "code",
   "execution_count": 84,
   "id": "cd5982d7-c8ac-4f45-85b2-90f7b0ba0c8a",
   "metadata": {},
   "outputs": [
    {
     "data": {
      "image/png": "[encoded data removed]",
      "text/plain": [
       "<Figure size 640x480 with 1 Axes>"
      ]
     },
     "metadata": {},
     "output_type": "display_data"
    }
   ],
   "source": [
    "sns.barplot(x='epoch', y='mape', hue='eta', data=df[df['timeperiod']=='60d'])\n",
    "plt.show()"
   ]
  }
 ],
 "metadata": {
  "kernelspec": {
   "display_name": "Python 3 (ipykernel)",
   "language": "python",
   "name": "python3"
  },
  "language_info": {
   "codemirror_mode": {
    "name": "ipython",
    "version": 3
   },
   "file_extension": ".py",
   "mimetype": "text/x-python",
   "name": "python",
   "nbconvert_exporter": "python",
   "pygments_lexer": "ipython3",
   "version": "3.10.12"
  }
 },
 "nbformat": 4,
 "nbformat_minor": 5
}
