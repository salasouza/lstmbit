{
 "cells": [
  {
   "cell_type": "markdown",
   "id": "9c937a05",
   "metadata": {},
   "source": [
    "\n",
    "<div style='text-align:center'> \n",
    "<h1>Aplicação de Rede Neural Recorrente LSTM para predição de investimentos em criptomoedas</h1>\n",
    "</div>"
   ]
  },
  {
   "cell_type": "markdown",
   "id": "ca6242ac",
   "metadata": {},
   "source": [
    "<h2>Sumário</h2>"
   ]
  },
  {
   "cell_type": "markdown",
   "id": "d4900d76",
   "metadata": {},
   "source": [
    "<div> A estrutura do projeto está na seguinte forma:\n",
    "<ul>\n",
    "<li>Dependências</li>\n",
    "<li>Configuração do notebook</li>\n",
    "<li>Coleta de dados</li>\n",
    "<li>Pré-processamento</li>\n",
    "<li>Construção do modelo</li>\n",
    "<li>Treinamento</li>\n",
    "<li>Avaliação do modelo</li>\n",
    "<li>Visualização Gráfica</li>\n",
    "</ul>\n",
    "</div>"
   ]
  },
  {
   "cell_type": "markdown",
   "id": "b15038ff",
   "metadata": {},
   "source": [
    "<h2>Dependências</h2>"
   ]
  },
  {
   "cell_type": "markdown",
   "id": "2eaa1f27",
   "metadata": {},
   "source": [
    "<h4>Libs para pré-processamento e visualização</h4>"
   ]
  },
  {
   "cell_type": "code",
   "execution_count": 1,
   "id": "ad9248d0",
   "metadata": {},
   "outputs": [],
   "source": [
    "from yahoo_fin.stock_info import get_data\n",
    "from datetime import datetime\n",
    "from matplotlib import rcParams\n",
    "\n",
    "import datetime as dt\n",
    "import matplotlib.pyplot as plt\n",
    "import seaborn as sns\n",
    "import warnings\n",
    "import numpy as np\n",
    "import pandas as pd\n",
    "import os\n",
    "import math\n",
    "\n",
    "from sklearn.preprocessing import MinMaxScaler\n",
    "from tensorflow.keras.models import Sequential\n",
    "from tensorflow.keras.layers import Dense, Dropout, LSTM\n",
    "from tensorflow.keras.callbacks import ModelCheckpoint, EarlyStopping\n",
    "\n",
    "from tensorflow.keras.optimizers import Adam\n",
    "from tensorflow.keras.callbacks import ModelCheckpoint, EarlyStopping,TensorBoard\n",
    "from tensorflow.keras import callbacks\n",
    "from time import time\n",
    "\n",
    "import keras_tuner\n",
    "from keras_tuner.tuners import RandomSearch,BayesianOptimization\n",
    "\n",
    "from keras.utils import plot_model\n",
    "\n",
    "from tensorflow import keras\n",
    "from tensorflow.keras import layers"
   ]
  },
  {
   "cell_type": "markdown",
   "id": "3b0e92d0",
   "metadata": {},
   "source": [
    "<h2>Configuração do notebook</h2>"
   ]
  },
  {
   "cell_type": "code",
   "execution_count": 2,
   "id": "6b47c91a",
   "metadata": {},
   "outputs": [],
   "source": [
    "rcParams['figure.figsize'] = 10,8\n",
    "warnings.filterwarnings('ignore')"
   ]
  },
  {
   "cell_type": "markdown",
   "id": "809b2558",
   "metadata": {},
   "source": [
    "<h2>Coleta de dados</h2>"
   ]
  },
  {
   "cell_type": "code",
   "execution_count": 3,
   "id": "0a1f9715",
   "metadata": {},
   "outputs": [],
   "source": [
    "def download_data(ativo, start, end):\n",
    "    dataframe = get_data(ativo, start_date=start, end_date=end, index_as_date = True, interval=\"1d\")\n",
    "    dataframe = dataframe.dropna()\n",
    "    return dataframe"
   ]
  },
  {
   "cell_type": "code",
   "execution_count": 4,
   "id": "ba7fe51f",
   "metadata": {},
   "outputs": [],
   "source": [
    "ativo = 'BTC-USD'\n",
    "start = dt.datetime(2020,1,1)\n",
    "end = dt.datetime(2023,3,22)"
   ]
  },
  {
   "cell_type": "code",
   "execution_count": 5,
   "id": "8d9def31",
   "metadata": {},
   "outputs": [],
   "source": [
    "dataset = download_data(ativo, start, end)"
   ]
  },
  {
   "cell_type": "code",
   "execution_count": 6,
   "id": "1570e71d",
   "metadata": {},
   "outputs": [
    {
     "data": {
      "text/html": [
       "<div>\n",
       "<style scoped>\n",
       "    .dataframe tbody tr th:only-of-type {\n",
       "        vertical-align: middle;\n",
       "    }\n",
       "\n",
       "    .dataframe tbody tr th {\n",
       "        vertical-align: top;\n",
       "    }\n",
       "\n",
       "    .dataframe thead th {\n",
       "        text-align: right;\n",
       "    }\n",
       "</style>\n",
       "<table border=\"1\" class=\"dataframe\">\n",
       "  <thead>\n",
       "    <tr style=\"text-align: right;\">\n",
       "      <th></th>\n",
       "      <th>open</th>\n",
       "      <th>high</th>\n",
       "      <th>low</th>\n",
       "      <th>close</th>\n",
       "      <th>adjclose</th>\n",
       "      <th>volume</th>\n",
       "      <th>ticker</th>\n",
       "    </tr>\n",
       "  </thead>\n",
       "  <tbody>\n",
       "    <tr>\n",
       "      <th>2020-01-01</th>\n",
       "      <td>7194.892090</td>\n",
       "      <td>7254.330566</td>\n",
       "      <td>7174.944336</td>\n",
       "      <td>7200.174316</td>\n",
       "      <td>7200.174316</td>\n",
       "      <td>18565664997</td>\n",
       "      <td>BTC-USD</td>\n",
       "    </tr>\n",
       "    <tr>\n",
       "      <th>2020-01-02</th>\n",
       "      <td>7202.551270</td>\n",
       "      <td>7212.155273</td>\n",
       "      <td>6935.270020</td>\n",
       "      <td>6985.470215</td>\n",
       "      <td>6985.470215</td>\n",
       "      <td>20802083465</td>\n",
       "      <td>BTC-USD</td>\n",
       "    </tr>\n",
       "    <tr>\n",
       "      <th>2020-01-03</th>\n",
       "      <td>6984.428711</td>\n",
       "      <td>7413.715332</td>\n",
       "      <td>6914.996094</td>\n",
       "      <td>7344.884277</td>\n",
       "      <td>7344.884277</td>\n",
       "      <td>28111481032</td>\n",
       "      <td>BTC-USD</td>\n",
       "    </tr>\n",
       "  </tbody>\n",
       "</table>\n",
       "</div>"
      ],
      "text/plain": [
       "                   open         high          low        close     adjclose  \\\n",
       "2020-01-01  7194.892090  7254.330566  7174.944336  7200.174316  7200.174316   \n",
       "2020-01-02  7202.551270  7212.155273  6935.270020  6985.470215  6985.470215   \n",
       "2020-01-03  6984.428711  7413.715332  6914.996094  7344.884277  7344.884277   \n",
       "\n",
       "                 volume   ticker  \n",
       "2020-01-01  18565664997  BTC-USD  \n",
       "2020-01-02  20802083465  BTC-USD  \n",
       "2020-01-03  28111481032  BTC-USD  "
      ]
     },
     "execution_count": 6,
     "metadata": {},
     "output_type": "execute_result"
    }
   ],
   "source": [
    "dataset.head(3)"
   ]
  },
  {
   "cell_type": "markdown",
   "id": "478e5df0",
   "metadata": {},
   "source": [
    "<h2>Pré-processamento</h2>"
   ]
  },
  {
   "cell_type": "code",
   "execution_count": 7,
   "id": "1edfbf67",
   "metadata": {},
   "outputs": [
    {
     "data": {
      "text/html": [
       "<div>\n",
       "<style scoped>\n",
       "    .dataframe tbody tr th:only-of-type {\n",
       "        vertical-align: middle;\n",
       "    }\n",
       "\n",
       "    .dataframe tbody tr th {\n",
       "        vertical-align: top;\n",
       "    }\n",
       "\n",
       "    .dataframe thead th {\n",
       "        text-align: right;\n",
       "    }\n",
       "</style>\n",
       "<table border=\"1\" class=\"dataframe\">\n",
       "  <thead>\n",
       "    <tr style=\"text-align: right;\">\n",
       "      <th></th>\n",
       "      <th>close</th>\n",
       "    </tr>\n",
       "  </thead>\n",
       "  <tbody>\n",
       "    <tr>\n",
       "      <th>2020-01-01</th>\n",
       "      <td>7200.174316</td>\n",
       "    </tr>\n",
       "    <tr>\n",
       "      <th>2020-01-02</th>\n",
       "      <td>6985.470215</td>\n",
       "    </tr>\n",
       "    <tr>\n",
       "      <th>2020-01-03</th>\n",
       "      <td>7344.884277</td>\n",
       "    </tr>\n",
       "  </tbody>\n",
       "</table>\n",
       "</div>"
      ],
      "text/plain": [
       "                  close\n",
       "2020-01-01  7200.174316\n",
       "2020-01-02  6985.470215\n",
       "2020-01-03  7344.884277"
      ]
     },
     "execution_count": 7,
     "metadata": {},
     "output_type": "execute_result"
    }
   ],
   "source": [
    "dataset_total = dataset.iloc[:,3:4].dropna()\n",
    "dataset_total.head(3)"
   ]
  },
  {
   "cell_type": "code",
   "execution_count": 8,
   "id": "6c3c799f",
   "metadata": {},
   "outputs": [
    {
     "data": {
      "image/png": "[encoded data removed]",
      "text/plain": [
       "<Figure size 432x288 with 1 Axes>"
      ]
     },
     "metadata": {
      "needs_background": "light"
     },
     "output_type": "display_data"
    }
   ],
   "source": [
    "plt.plot(dataset_total['close'], label='Preços diários de fechamento', color='red')\n",
    "plt.legend(loc='best')\n",
    "plt.xlabel('Dias')\n",
    "plt.xticks(rotation=45)\n",
    "plt.ylabel('Preços diários de fechamento (USD)')\n",
    "plt.title('Bitcoin  - Preços Diários (2020-01-01 -2022-11-22)')\n",
    "plt.show()"
   ]
  },
  {
   "cell_type": "markdown",
   "id": "0f5721a6",
   "metadata": {},
   "source": [
    "<h2>Construção do Modelo</h2>"
   ]
  },
  {
   "cell_type": "markdown",
   "id": "17037cc0",
   "metadata": {},
   "source": [
    "<div>\n",
    "<ul>Referência Michánków et al. 2022:   \n",
    "    <li>3 Camadas de LSTM</li>\n",
    "    <li>512/256/128 neurônios</li>\n",
    "    <li>Dropout: 0,02 </li>    <li>1 Neurônio de saida</li>\n",
    "    <li>Função de ativação: tanh</li>\n",
    "    <li>Otimizador: Adam</li>\n",
    "    <li>Taxa: 0,0015</li>\n",
    "    <li>Mini-Batch: 80</li>\n",
    "    <li>Loss: MDSL</li>\n",
    "</ul>\n",
    "</div>    "
   ]
  },
  {
   "cell_type": "markdown",
   "id": "5a61626d",
   "metadata": {},
   "source": [
    "<div style='text-aling:justify'>\n",
    "O objetivo do modelo é avaliar sua capacidade de predição dos valores em 60 dias;\n",
    "</div>"
   ]
  },
  {
   "cell_type": "markdown",
   "id": "3111203f",
   "metadata": {},
   "source": [
    "<h4>Normalização dos dados</h4>"
   ]
  },
  {
   "cell_type": "code",
   "execution_count": 9,
   "id": "d89e1d9d",
   "metadata": {},
   "outputs": [],
   "source": [
    "dataset_values = dataset_total.values\n",
    "    \n",
    "training_dataset_len = math.ceil(len(dataset_values)* 0.67) # 80% training\n",
    "    \n",
    "mms = MinMaxScaler(feature_range=(0,1))                           # range for to scale (0,1)\n",
    "    \n",
    "scaled_dataset = mms.fit_transform(dataset_values.reshape(-1,1))  # normalized dataset and reshape(-1,1)\n",
    "\n",
    "training_dataset = scaled_dataset[0: training_dataset_len, :]   "
   ]
  },
  {
   "cell_type": "code",
   "execution_count": 10,
   "id": "3a662fe0",
   "metadata": {},
   "outputs": [
    {
     "data": {
      "text/plain": [
       "(789, 1)"
      ]
     },
     "execution_count": 10,
     "metadata": {},
     "output_type": "execute_result"
    }
   ],
   "source": [
    "training_dataset.shape"
   ]
  },
  {
   "cell_type": "markdown",
   "id": "0f470f67",
   "metadata": {},
   "source": [
    "<h4>Construção do dataset de treino e teste</h4>"
   ]
  },
  {
   "cell_type": "code",
   "execution_count": 11,
   "id": "42881be5",
   "metadata": {},
   "outputs": [],
   "source": [
    "qt_days = 60"
   ]
  },
  {
   "cell_type": "code",
   "execution_count": 12,
   "id": "3c233662",
   "metadata": {},
   "outputs": [],
   "source": [
    "X_train = []\n",
    "y_train = []\n",
    "\n",
    "for i in range(qt_days, len(training_dataset)):\n",
    "    X_train.append(training_dataset[i-qt_days:i, 0])\n",
    "    y_train.append(training_dataset[i, 0])\n",
    "\n",
    "X_train, y_train = np.array(X_train), np.array(y_train)\n",
    "\n",
    "X_train = np.reshape(X_train, (X_train.shape[0], X_train.shape[1], 1))"
   ]
  },
  {
   "cell_type": "code",
   "execution_count": 13,
   "id": "6362dab2",
   "metadata": {},
   "outputs": [
    {
     "data": {
      "text/plain": [
       "(729, 729)"
      ]
     },
     "execution_count": 13,
     "metadata": {},
     "output_type": "execute_result"
    }
   ],
   "source": [
    "len(X_train), len(y_train)"
   ]
  },
  {
   "cell_type": "code",
   "execution_count": 14,
   "id": "3ae995a9",
   "metadata": {},
   "outputs": [],
   "source": [
    "test_dataset = scaled_dataset[training_dataset_len-qt_days: , : ]\n",
    "\n",
    "x_test = []\n",
    "\n",
    "y_test = dataset_values[training_dataset_len:]\n",
    "\n",
    "for i in range(qt_days, len(test_dataset)):\n",
    "    x_test.append(test_dataset[i-qt_days:i, 0])\n",
    "\n",
    "x_test = np.array(x_test)\n",
    "\n",
    "x_test = np.reshape(x_test, (x_test.shape[0], x_test.shape[1], 1))"
   ]
  },
  {
   "cell_type": "code",
   "execution_count": 15,
   "id": "79a75e5b",
   "metadata": {},
   "outputs": [
    {
     "data": {
      "text/plain": [
       "(388, 388, 1177)"
      ]
     },
     "execution_count": 15,
     "metadata": {},
     "output_type": "execute_result"
    }
   ],
   "source": [
    "len(x_test), len(y_test), len(scaled_dataset)"
   ]
  },
  {
   "cell_type": "markdown",
   "id": "3b6b812a",
   "metadata": {},
   "source": [
    "<h2>Treinamento</h2>"
   ]
  },
  {
   "cell_type": "code",
   "execution_count": 16,
   "id": "2d8797d7",
   "metadata": {},
   "outputs": [],
   "source": [
    "from tensorflow.keras.optimizers import Adam"
   ]
  },
  {
   "cell_type": "code",
   "execution_count": 17,
   "id": "32ed99bc",
   "metadata": {},
   "outputs": [],
   "source": [
    "from tensorflow.keras.callbacks import ModelCheckpoint, EarlyStopping,TensorBoard\n",
    "from tensorflow.keras import callbacks\n",
    "from time import time"
   ]
  },
  {
   "cell_type": "markdown",
   "id": "d5d3a05b",
   "metadata": {},
   "source": [
    "<h4>Base Model</h4>"
   ]
  },
  {
   "cell_type": "code",
   "execution_count": 18,
   "id": "694f52e0",
   "metadata": {},
   "outputs": [],
   "source": [
    "import keras_tuner\n",
    "from keras_tuner.tuners import RandomSearch,BayesianOptimization"
   ]
  },
  {
   "cell_type": "code",
   "execution_count": 19,
   "id": "5530e473",
   "metadata": {},
   "outputs": [],
   "source": [
    "inputs = keras.Input(shape=(X_train.shape[1],1), name='input_layer')\n",
    "\n",
    "x = layers.LSTM(50, return_sequences=True)(inputs)\n",
    "x = layers.Dropout(0.2)(x)\n",
    "\n",
    "x = layers.LSTM(50, return_sequences=True)(x)\n",
    "x = layers.Dropout(0.2)(x)\n",
    "\n",
    "x = layers.LSTM(50)(x)\n",
    "x = layers.Dropout(0.2)(x)\n",
    "\n",
    "outputs = layers.Dense(1, activation='tanh')(x)"
   ]
  },
  {
   "cell_type": "code",
   "execution_count": 20,
   "id": "0d8e1365",
   "metadata": {},
   "outputs": [],
   "source": [
    "network = keras.Model(inputs=inputs, \n",
    "                      outputs=outputs, \n",
    "                      name='network_lstm_model')"
   ]
  },
  {
   "cell_type": "code",
   "execution_count": 21,
   "id": "52fed9d2",
   "metadata": {},
   "outputs": [
    {
     "name": "stdout",
     "output_type": "stream",
     "text": [
      "Model: \"network_lstm_model\"\n",
      "_________________________________________________________________\n",
      " Layer (type)                Output Shape              Param #   \n",
      "=================================================================\n",
      " input_layer (InputLayer)    [(None, 60, 1)]           0         \n",
      "                                                                 \n",
      " lstm (LSTM)                 (None, 60, 50)            10400     \n",
      "                                                                 \n",
      " dropout (Dropout)           (None, 60, 50)            0         \n",
      "                                                                 \n",
      " lstm_1 (LSTM)               (None, 60, 50)            20200     \n",
      "                                                                 \n",
      " dropout_1 (Dropout)         (None, 60, 50)            0         \n",
      "                                                                 \n",
      " lstm_2 (LSTM)               (None, 50)                20200     \n",
      "                                                                 \n",
      " dropout_2 (Dropout)         (None, 50)                0         \n",
      "                                                                 \n",
      " dense (Dense)               (None, 1)                 51        \n",
      "                                                                 \n",
      "=================================================================\n",
      "Total params: 50,851\n",
      "Trainable params: 50,851\n",
      "Non-trainable params: 0\n",
      "_________________________________________________________________\n"
     ]
    }
   ],
   "source": [
    "network.summary()"
   ]
  },
  {
   "cell_type": "code",
   "execution_count": 22,
   "id": "44637026",
   "metadata": {},
   "outputs": [
    {
     "data": {
      "image/png": "[encoded data removed]",
      "text/plain": [
       "<IPython.core.display.Image object>"
      ]
     },
     "execution_count": 22,
     "metadata": {},
     "output_type": "execute_result"
    }
   ],
   "source": [
    "keras.utils.plot_model(network, '../plots/lstm_model_shape_false.png')"
   ]
  },
  {
   "cell_type": "code",
   "execution_count": 23,
   "id": "ef30a079",
   "metadata": {},
   "outputs": [
    {
     "data": {
      "image/png": "[encoded data removed]",
      "text/plain": [
       "<IPython.core.display.Image object>"
      ]
     },
     "execution_count": 23,
     "metadata": {},
     "output_type": "execute_result"
    }
   ],
   "source": [
    "keras.utils.plot_model(network, '../plots/model_lstm.png', show_shapes=True)"
   ]
  },
  {
   "cell_type": "code",
   "execution_count": 24,
   "id": "a6b4e4f2",
   "metadata": {},
   "outputs": [],
   "source": [
    "# optimizer = Adam(learning_rate=0.2)\n",
    "\n",
    "network.compile(optimizer=\"adam\",loss='mse')"
   ]
  },
  {
   "cell_type": "code",
   "execution_count": 25,
   "id": "f28dea45",
   "metadata": {},
   "outputs": [],
   "source": [
    "tensorboard = TensorBoard(log_dir=\"../logs/{}\".format(time()))"
   ]
  },
  {
   "cell_type": "code",
   "execution_count": 26,
   "id": "f37eb70d",
   "metadata": {},
   "outputs": [
    {
     "name": "stdout",
     "output_type": "stream",
     "text": [
      "Epoch 1/96\n",
      "23/23 - 19s - loss: 0.0531 - 19s/epoch - 823ms/step\n",
      "Epoch 2/96\n",
      "23/23 - 5s - loss: 0.0079 - 5s/epoch - 233ms/step\n",
      "Epoch 3/96\n",
      "23/23 - 5s - loss: 0.0067 - 5s/epoch - 227ms/step\n",
      "Epoch 4/96\n",
      "23/23 - 6s - loss: 0.0058 - 6s/epoch - 241ms/step\n",
      "Epoch 5/96\n",
      "23/23 - 16s - loss: 0.0062 - 16s/epoch - 682ms/step\n",
      "Epoch 6/96\n",
      "23/23 - 6s - loss: 0.0054 - 6s/epoch - 265ms/step\n",
      "Epoch 7/96\n",
      "23/23 - 6s - loss: 0.0057 - 6s/epoch - 254ms/step\n",
      "Epoch 8/96\n",
      "23/23 - 6s - loss: 0.0051 - 6s/epoch - 249ms/step\n",
      "Epoch 9/96\n",
      "23/23 - 6s - loss: 0.0054 - 6s/epoch - 282ms/step\n",
      "Epoch 10/96\n",
      "23/23 - 5s - loss: 0.0050 - 5s/epoch - 229ms/step\n",
      "Epoch 11/96\n",
      "23/23 - 6s - loss: 0.0046 - 6s/epoch - 242ms/step\n",
      "Epoch 12/96\n",
      "23/23 - 5s - loss: 0.0045 - 5s/epoch - 226ms/step\n",
      "Epoch 13/96\n",
      "23/23 - 6s - loss: 0.0042 - 6s/epoch - 240ms/step\n",
      "Epoch 14/96\n",
      "23/23 - 6s - loss: 0.0045 - 6s/epoch - 242ms/step\n",
      "Epoch 15/96\n",
      "23/23 - 5s - loss: 0.0042 - 5s/epoch - 226ms/step\n",
      "Epoch 16/96\n",
      "23/23 - 6s - loss: 0.0042 - 6s/epoch - 247ms/step\n",
      "Epoch 17/96\n",
      "23/23 - 7s - loss: 0.0040 - 7s/epoch - 322ms/step\n",
      "Epoch 18/96\n",
      "23/23 - 6s - loss: 0.0039 - 6s/epoch - 243ms/step\n",
      "Epoch 19/96\n",
      "23/23 - 5s - loss: 0.0040 - 5s/epoch - 224ms/step\n",
      "Epoch 20/96\n",
      "23/23 - 10s - loss: 0.0037 - 10s/epoch - 427ms/step\n",
      "Epoch 21/96\n",
      "23/23 - 7s - loss: 0.0043 - 7s/epoch - 307ms/step\n",
      "Epoch 22/96\n",
      "23/23 - 6s - loss: 0.0035 - 6s/epoch - 281ms/step\n",
      "Epoch 23/96\n",
      "23/23 - 6s - loss: 0.0039 - 6s/epoch - 247ms/step\n",
      "Epoch 24/96\n",
      "23/23 - 5s - loss: 0.0032 - 5s/epoch - 238ms/step\n",
      "Epoch 25/96\n",
      "23/23 - 6s - loss: 0.0037 - 6s/epoch - 247ms/step\n",
      "Epoch 26/96\n",
      "23/23 - 6s - loss: 0.0030 - 6s/epoch - 261ms/step\n",
      "Epoch 27/96\n",
      "23/23 - 6s - loss: 0.0031 - 6s/epoch - 258ms/step\n",
      "Epoch 28/96\n",
      "23/23 - 7s - loss: 0.0031 - 7s/epoch - 313ms/step\n",
      "Epoch 29/96\n",
      "23/23 - 7s - loss: 0.0027 - 7s/epoch - 320ms/step\n",
      "Epoch 30/96\n",
      "23/23 - 7s - loss: 0.0026 - 7s/epoch - 297ms/step\n",
      "Epoch 31/96\n",
      "23/23 - 5s - loss: 0.0027 - 5s/epoch - 230ms/step\n",
      "Epoch 32/96\n",
      "23/23 - 33s - loss: 0.0025 - 33s/epoch - 1s/step\n",
      "Epoch 33/96\n",
      "23/23 - 15s - loss: 0.0026 - 15s/epoch - 651ms/step\n",
      "Epoch 34/96\n",
      "23/23 - 9s - loss: 0.0027 - 9s/epoch - 376ms/step\n",
      "Epoch 35/96\n",
      "23/23 - 12s - loss: 0.0025 - 12s/epoch - 509ms/step\n",
      "Epoch 36/96\n",
      "23/23 - 10s - loss: 0.0025 - 10s/epoch - 437ms/step\n",
      "Epoch 37/96\n",
      "23/23 - 9s - loss: 0.0027 - 9s/epoch - 397ms/step\n",
      "Epoch 38/96\n",
      "23/23 - 8s - loss: 0.0029 - 8s/epoch - 343ms/step\n",
      "Epoch 39/96\n",
      "23/23 - 7s - loss: 0.0027 - 7s/epoch - 315ms/step\n",
      "Epoch 40/96\n",
      "23/23 - 7s - loss: 0.0023 - 7s/epoch - 309ms/step\n",
      "Epoch 41/96\n",
      "23/23 - 7s - loss: 0.0023 - 7s/epoch - 317ms/step\n",
      "Epoch 42/96\n",
      "23/23 - 8s - loss: 0.0025 - 8s/epoch - 332ms/step\n",
      "Epoch 43/96\n",
      "23/23 - 8s - loss: 0.0023 - 8s/epoch - 351ms/step\n",
      "Epoch 44/96\n",
      "23/23 - 7s - loss: 0.0024 - 7s/epoch - 311ms/step\n",
      "Epoch 45/96\n",
      "23/23 - 18s - loss: 0.0021 - 18s/epoch - 781ms/step\n",
      "Epoch 46/96\n",
      "23/23 - 8s - loss: 0.0021 - 8s/epoch - 340ms/step\n",
      "Epoch 47/96\n",
      "23/23 - 7s - loss: 0.0024 - 7s/epoch - 299ms/step\n",
      "Epoch 48/96\n",
      "23/23 - 15s - loss: 0.0021 - 15s/epoch - 652ms/step\n",
      "Epoch 49/96\n",
      "23/23 - 8s - loss: 0.0023 - 8s/epoch - 354ms/step\n",
      "Epoch 50/96\n",
      "23/23 - 8s - loss: 0.0026 - 8s/epoch - 363ms/step\n",
      "Epoch 51/96\n",
      "23/23 - 16s - loss: 0.0024 - 16s/epoch - 686ms/step\n",
      "Epoch 52/96\n",
      "23/23 - 9s - loss: 0.0020 - 9s/epoch - 411ms/step\n",
      "Epoch 53/96\n",
      "23/23 - 12s - loss: 0.0022 - 12s/epoch - 513ms/step\n",
      "Epoch 54/96\n",
      "23/23 - 11s - loss: 0.0022 - 11s/epoch - 469ms/step\n",
      "Epoch 55/96\n",
      "23/23 - 13s - loss: 0.0022 - 13s/epoch - 586ms/step\n",
      "Epoch 56/96\n",
      "23/23 - 14s - loss: 0.0020 - 14s/epoch - 619ms/step\n",
      "Epoch 57/96\n",
      "23/23 - 11s - loss: 0.0019 - 11s/epoch - 468ms/step\n",
      "Epoch 58/96\n",
      "23/23 - 21s - loss: 0.0019 - 21s/epoch - 926ms/step\n",
      "Epoch 59/96\n",
      "23/23 - 9s - loss: 0.0020 - 9s/epoch - 395ms/step\n",
      "Epoch 60/96\n",
      "23/23 - 16s - loss: 0.0021 - 16s/epoch - 678ms/step\n",
      "Epoch 61/96\n",
      "23/23 - 16s - loss: 0.0019 - 16s/epoch - 692ms/step\n",
      "Epoch 62/96\n",
      "23/23 - 23s - loss: 0.0020 - 23s/epoch - 1s/step\n",
      "Epoch 63/96\n",
      "23/23 - 21s - loss: 0.0019 - 21s/epoch - 892ms/step\n",
      "Epoch 64/96\n",
      "23/23 - 11s - loss: 0.0018 - 11s/epoch - 499ms/step\n",
      "Epoch 65/96\n",
      "23/23 - 19s - loss: 0.0022 - 19s/epoch - 845ms/step\n",
      "Epoch 66/96\n",
      "23/23 - 11s - loss: 0.0018 - 11s/epoch - 494ms/step\n",
      "Epoch 67/96\n",
      "23/23 - 20s - loss: 0.0018 - 20s/epoch - 889ms/step\n",
      "Epoch 68/96\n",
      "23/23 - 8s - loss: 0.0020 - 8s/epoch - 341ms/step\n",
      "Epoch 69/96\n",
      "23/23 - 10s - loss: 0.0018 - 10s/epoch - 416ms/step\n",
      "Epoch 70/96\n",
      "23/23 - 12s - loss: 0.0017 - 12s/epoch - 530ms/step\n",
      "Epoch 71/96\n",
      "23/23 - 5s - loss: 0.0019 - 5s/epoch - 224ms/step\n",
      "Epoch 72/96\n",
      "23/23 - 9s - loss: 0.0018 - 9s/epoch - 373ms/step\n",
      "Epoch 73/96\n",
      "23/23 - 5s - loss: 0.0018 - 5s/epoch - 235ms/step\n",
      "Epoch 74/96\n",
      "23/23 - 5s - loss: 0.0018 - 5s/epoch - 234ms/step\n",
      "Epoch 75/96\n",
      "23/23 - 6s - loss: 0.0018 - 6s/epoch - 250ms/step\n",
      "Epoch 76/96\n",
      "23/23 - 5s - loss: 0.0018 - 5s/epoch - 227ms/step\n",
      "Epoch 77/96\n",
      "23/23 - 5s - loss: 0.0019 - 5s/epoch - 223ms/step\n",
      "Epoch 78/96\n",
      "23/23 - 6s - loss: 0.0018 - 6s/epoch - 256ms/step\n",
      "Epoch 79/96\n",
      "23/23 - 5s - loss: 0.0015 - 5s/epoch - 226ms/step\n",
      "Epoch 80/96\n",
      "23/23 - 8s - loss: 0.0015 - 8s/epoch - 330ms/step\n",
      "Epoch 81/96\n",
      "23/23 - 11s - loss: 0.0015 - 11s/epoch - 497ms/step\n",
      "Epoch 82/96\n",
      "23/23 - 6s - loss: 0.0021 - 6s/epoch - 254ms/step\n",
      "Epoch 83/96\n",
      "23/23 - 5s - loss: 0.0016 - 5s/epoch - 227ms/step\n",
      "Epoch 84/96\n",
      "23/23 - 7s - loss: 0.0016 - 7s/epoch - 301ms/step\n",
      "Epoch 85/96\n",
      "23/23 - 5s - loss: 0.0019 - 5s/epoch - 228ms/step\n",
      "Epoch 86/96\n",
      "23/23 - 6s - loss: 0.0017 - 6s/epoch - 267ms/step\n",
      "Epoch 87/96\n",
      "23/23 - 12s - loss: 0.0016 - 12s/epoch - 541ms/step\n",
      "Epoch 88/96\n",
      "23/23 - 7s - loss: 0.0016 - 7s/epoch - 319ms/step\n",
      "Epoch 89/96\n",
      "23/23 - 6s - loss: 0.0016 - 6s/epoch - 243ms/step\n",
      "Epoch 90/96\n",
      "23/23 - 5s - loss: 0.0017 - 5s/epoch - 225ms/step\n",
      "Epoch 91/96\n",
      "23/23 - 5s - loss: 0.0018 - 5s/epoch - 235ms/step\n",
      "Epoch 92/96\n",
      "23/23 - 5s - loss: 0.0015 - 5s/epoch - 230ms/step\n",
      "Epoch 93/96\n",
      "23/23 - 6s - loss: 0.0014 - 6s/epoch - 254ms/step\n",
      "Epoch 94/96\n",
      "23/23 - 5s - loss: 0.0016 - 5s/epoch - 231ms/step\n",
      "Epoch 95/96\n",
      "23/23 - 5s - loss: 0.0017 - 5s/epoch - 230ms/step\n",
      "Epoch 96/96\n",
      "23/23 - 5s - loss: 0.0016 - 5s/epoch - 232ms/step\n"
     ]
    }
   ],
   "source": [
    "history = network.fit(X_train, \n",
    "                      y_train,\n",
    "                      epochs=96,\n",
    "                      batch_size=32,\n",
    "                      callbacks=[tensorboard], \n",
    "                      verbose=2)"
   ]
  },
  {
   "cell_type": "code",
   "execution_count": 50,
   "id": "eee7d9d9",
   "metadata": {},
   "outputs": [
    {
     "data": {
      "image/png": "[encoded data removed]",
      "text/plain": [
       "<Figure size 432x288 with 1 Axes>"
      ]
     },
     "metadata": {
      "needs_background": "light"
     },
     "output_type": "display_data"
    }
   ],
   "source": [
    "plt.plot(history.history['loss'])\n",
    "plt.title('Custo do Modelo')\n",
    "plt.ylabel('Custo')\n",
    "plt.xlabel('Épocas')\n",
    "plt.legend(['train', 'test'], loc='best')\n",
    "plt.show()"
   ]
  },
  {
   "cell_type": "code",
   "execution_count": 51,
   "id": "53ce4d61",
   "metadata": {},
   "outputs": [],
   "source": [
    "# plt.plot(history.history['loss'])\n",
    "# plt.title('Custo do Modelo')\n",
    "# plt.ylabel('Custo')\n",
    "# plt.xlabel('Épocas')\n",
    "# # plt.legend(['train', 'val'], loc='upper left')\n",
    "# plt.show()"
   ]
  },
  {
   "cell_type": "markdown",
   "id": "50fda5fe",
   "metadata": {},
   "source": [
    "<h2>Avaliação do Modelo</h2>"
   ]
  },
  {
   "cell_type": "code",
   "execution_count": 28,
   "id": "93e9f1ca",
   "metadata": {},
   "outputs": [
    {
     "name": "stdout",
     "output_type": "stream",
     "text": [
      "Evaluate on test data \n",
      "\n",
      "13/13 - 3s - loss: 699570560.0000 - 3s/epoch - 226ms/step\n",
      "test loss: 699570560.0\n"
     ]
    }
   ],
   "source": [
    "print(\"Evaluate on test data \\n\")\n",
    "\n",
    "results = network.evaluate(x_test, y_test, verbose=2)\n",
    "\n",
    "print(\"test loss:\", results)"
   ]
  },
  {
   "cell_type": "code",
   "execution_count": 65,
   "id": "a863693e",
   "metadata": {},
   "outputs": [
    {
     "name": "stdout",
     "output_type": "stream",
     "text": [
      "13/13 [==============================] - 1s 98ms/step\n"
     ]
    },
    {
     "data": {
      "text/plain": [
       "(388, 1)"
      ]
     },
     "execution_count": 65,
     "metadata": {},
     "output_type": "execute_result"
    }
   ],
   "source": [
    "predictions = network.predict(x_test)\n",
    "\n",
    "predictions.shape"
   ]
  },
  {
   "cell_type": "code",
   "execution_count": 66,
   "id": "7d58b01b",
   "metadata": {},
   "outputs": [
    {
     "name": "stdout",
     "output_type": "stream",
     "text": [
      "RMSE: 1546.4112183875645\n"
     ]
    }
   ],
   "source": [
    "predictions = mms.inverse_transform(predictions)\n",
    "\n",
    "rmse = np.sqrt(np.mean(predictions - y_test)**2)\n",
    "\n",
    "print(f\"RMSE: {rmse}\")"
   ]
  },
  {
   "cell_type": "code",
   "execution_count": 67,
   "id": "820e6a93",
   "metadata": {},
   "outputs": [
    {
     "name": "stdout",
     "output_type": "stream",
     "text": [
      "MAE: 39.32443538548983\n"
     ]
    }
   ],
   "source": [
    "# predictions = mms.inverse_transform(predictions)\n",
    "\n",
    "mae = np.sqrt(np.mean(predictions - y_test))\n",
    "\n",
    "print(f\"MAE: {mae}\")"
   ]
  },
  {
   "cell_type": "code",
   "execution_count": 70,
   "id": "b05edc24",
   "metadata": {},
   "outputs": [
    {
     "name": "stdout",
     "output_type": "stream",
     "text": [
      "MAPE: 171731.74079816366\n"
     ]
    }
   ],
   "source": [
    "from sklearn.metrics import mean_absolute_error\n",
    "\n",
    "mape = mean_absolute_error(predictions, y_test)*100\n",
    "\n",
    "print(f\"MAPE: {mape}\")"
   ]
  },
  {
   "cell_type": "markdown",
   "id": "6ee68195",
   "metadata": {},
   "source": [
    "<h2>Visualização Gráfica</h2>"
   ]
  },
  {
   "cell_type": "code",
   "execution_count": 31,
   "id": "0c9ad92c",
   "metadata": {},
   "outputs": [],
   "source": [
    "data = dataset.filter(['close'])\n",
    "\n",
    "train = data[:training_dataset_len]"
   ]
  },
  {
   "cell_type": "code",
   "execution_count": 32,
   "id": "8cbc9aef",
   "metadata": {},
   "outputs": [
    {
     "data": {
      "text/html": [
       "<div>\n",
       "<style scoped>\n",
       "    .dataframe tbody tr th:only-of-type {\n",
       "        vertical-align: middle;\n",
       "    }\n",
       "\n",
       "    .dataframe tbody tr th {\n",
       "        vertical-align: top;\n",
       "    }\n",
       "\n",
       "    .dataframe thead th {\n",
       "        text-align: right;\n",
       "    }\n",
       "</style>\n",
       "<table border=\"1\" class=\"dataframe\">\n",
       "  <thead>\n",
       "    <tr style=\"text-align: right;\">\n",
       "      <th></th>\n",
       "      <th>close</th>\n",
       "    </tr>\n",
       "  </thead>\n",
       "  <tbody>\n",
       "    <tr>\n",
       "      <th>2020-01-01</th>\n",
       "      <td>7200.174316</td>\n",
       "    </tr>\n",
       "    <tr>\n",
       "      <th>2020-01-02</th>\n",
       "      <td>6985.470215</td>\n",
       "    </tr>\n",
       "    <tr>\n",
       "      <th>2020-01-03</th>\n",
       "      <td>7344.884277</td>\n",
       "    </tr>\n",
       "    <tr>\n",
       "      <th>2020-01-04</th>\n",
       "      <td>7410.656738</td>\n",
       "    </tr>\n",
       "    <tr>\n",
       "      <th>2020-01-05</th>\n",
       "      <td>7411.317383</td>\n",
       "    </tr>\n",
       "    <tr>\n",
       "      <th>...</th>\n",
       "      <td>...</td>\n",
       "    </tr>\n",
       "    <tr>\n",
       "      <th>2023-03-18</th>\n",
       "      <td>26965.878906</td>\n",
       "    </tr>\n",
       "    <tr>\n",
       "      <th>2023-03-19</th>\n",
       "      <td>28038.675781</td>\n",
       "    </tr>\n",
       "    <tr>\n",
       "      <th>2023-03-20</th>\n",
       "      <td>27767.236328</td>\n",
       "    </tr>\n",
       "    <tr>\n",
       "      <th>2023-03-21</th>\n",
       "      <td>28175.816406</td>\n",
       "    </tr>\n",
       "    <tr>\n",
       "      <th>2023-03-22</th>\n",
       "      <td>27307.437500</td>\n",
       "    </tr>\n",
       "  </tbody>\n",
       "</table>\n",
       "<p>1177 rows × 1 columns</p>\n",
       "</div>"
      ],
      "text/plain": [
       "                   close\n",
       "2020-01-01   7200.174316\n",
       "2020-01-02   6985.470215\n",
       "2020-01-03   7344.884277\n",
       "2020-01-04   7410.656738\n",
       "2020-01-05   7411.317383\n",
       "...                  ...\n",
       "2023-03-18  26965.878906\n",
       "2023-03-19  28038.675781\n",
       "2023-03-20  27767.236328\n",
       "2023-03-21  28175.816406\n",
       "2023-03-22  27307.437500\n",
       "\n",
       "[1177 rows x 1 columns]"
      ]
     },
     "execution_count": 32,
     "metadata": {},
     "output_type": "execute_result"
    }
   ],
   "source": [
    "data"
   ]
  },
  {
   "cell_type": "code",
   "execution_count": 33,
   "id": "ec5d2a8b",
   "metadata": {},
   "outputs": [
    {
     "data": {
      "text/html": [
       "<div>\n",
       "<style scoped>\n",
       "    .dataframe tbody tr th:only-of-type {\n",
       "        vertical-align: middle;\n",
       "    }\n",
       "\n",
       "    .dataframe tbody tr th {\n",
       "        vertical-align: top;\n",
       "    }\n",
       "\n",
       "    .dataframe thead th {\n",
       "        text-align: right;\n",
       "    }\n",
       "</style>\n",
       "<table border=\"1\" class=\"dataframe\">\n",
       "  <thead>\n",
       "    <tr style=\"text-align: right;\">\n",
       "      <th></th>\n",
       "      <th>close</th>\n",
       "    </tr>\n",
       "  </thead>\n",
       "  <tbody>\n",
       "    <tr>\n",
       "      <th>2022-02-28</th>\n",
       "      <td>43193.234375</td>\n",
       "    </tr>\n",
       "    <tr>\n",
       "      <th>2022-03-01</th>\n",
       "      <td>44354.636719</td>\n",
       "    </tr>\n",
       "    <tr>\n",
       "      <th>2022-03-02</th>\n",
       "      <td>43924.117188</td>\n",
       "    </tr>\n",
       "    <tr>\n",
       "      <th>2022-03-03</th>\n",
       "      <td>42451.789062</td>\n",
       "    </tr>\n",
       "    <tr>\n",
       "      <th>2022-03-04</th>\n",
       "      <td>39137.605469</td>\n",
       "    </tr>\n",
       "    <tr>\n",
       "      <th>...</th>\n",
       "      <td>...</td>\n",
       "    </tr>\n",
       "    <tr>\n",
       "      <th>2023-03-18</th>\n",
       "      <td>26965.878906</td>\n",
       "    </tr>\n",
       "    <tr>\n",
       "      <th>2023-03-19</th>\n",
       "      <td>28038.675781</td>\n",
       "    </tr>\n",
       "    <tr>\n",
       "      <th>2023-03-20</th>\n",
       "      <td>27767.236328</td>\n",
       "    </tr>\n",
       "    <tr>\n",
       "      <th>2023-03-21</th>\n",
       "      <td>28175.816406</td>\n",
       "    </tr>\n",
       "    <tr>\n",
       "      <th>2023-03-22</th>\n",
       "      <td>27307.437500</td>\n",
       "    </tr>\n",
       "  </tbody>\n",
       "</table>\n",
       "<p>388 rows × 1 columns</p>\n",
       "</div>"
      ],
      "text/plain": [
       "                   close\n",
       "2022-02-28  43193.234375\n",
       "2022-03-01  44354.636719\n",
       "2022-03-02  43924.117188\n",
       "2022-03-03  42451.789062\n",
       "2022-03-04  39137.605469\n",
       "...                  ...\n",
       "2023-03-18  26965.878906\n",
       "2023-03-19  28038.675781\n",
       "2023-03-20  27767.236328\n",
       "2023-03-21  28175.816406\n",
       "2023-03-22  27307.437500\n",
       "\n",
       "[388 rows x 1 columns]"
      ]
     },
     "execution_count": 33,
     "metadata": {},
     "output_type": "execute_result"
    }
   ],
   "source": [
    "validation = data[training_dataset_len:]\n",
    "\n",
    "validation"
   ]
  },
  {
   "cell_type": "code",
   "execution_count": 34,
   "id": "fd9315d1",
   "metadata": {},
   "outputs": [],
   "source": [
    "validation['predictions'] = predictions"
   ]
  },
  {
   "cell_type": "code",
   "execution_count": 35,
   "id": "2400816e",
   "metadata": {},
   "outputs": [
    {
     "data": {
      "image/png": "[encoded data removed]",
      "text/plain": [
       "<Figure size 576x432 with 1 Axes>"
      ]
     },
     "metadata": {
      "needs_background": "light"
     },
     "output_type": "display_data"
    }
   ],
   "source": [
    "plt.figure(figsize=(8,6))\n",
    "plt.title(f\"RMSE = {rmse}\")\n",
    "plt.xlabel('Date')\n",
    "plt.ylabel('Close Price USD ($)')\n",
    "plt.plot(train)\n",
    "plt.plot(validation[['close', 'predictions']])\n",
    "plt.xticks(rotation=45)\n",
    "plt.legend(['Train', 'Val', 'Predictions'], loc='upper right')\n",
    "plt.savefig(\"\")\n",
    "plt.show()"
   ]
  },
  {
   "cell_type": "markdown",
   "id": "f2726928",
   "metadata": {},
   "source": [
    "<h2>Predizendo o próximo dia</h2>"
   ]
  },
  {
   "cell_type": "code",
   "execution_count": 36,
   "id": "d3361eba",
   "metadata": {},
   "outputs": [
    {
     "data": {
      "text/plain": [
       "array([[[0.67428126],\n",
       "        [0.66035579],\n",
       "        [0.68240778],\n",
       "        ...,\n",
       "        [0.54705426],\n",
       "        [0.54531182],\n",
       "        [0.52302026]],\n",
       "\n",
       "       [[0.66035579],\n",
       "        [0.68240778],\n",
       "        [0.67695066],\n",
       "        ...,\n",
       "        [0.54531182],\n",
       "        [0.52302026],\n",
       "        [0.61062084]],\n",
       "\n",
       "       [[0.68240778],\n",
       "        [0.67695066],\n",
       "        [0.66277881],\n",
       "        ...,\n",
       "        [0.52302026],\n",
       "        [0.61062084],\n",
       "        [0.62917476]],\n",
       "\n",
       "       ...,\n",
       "\n",
       "       [[0.25746045],\n",
       "        [0.28285758],\n",
       "        [0.28447226],\n",
       "        ...,\n",
       "        [0.35869907],\n",
       "        [0.35138151],\n",
       "        [0.36851992]],\n",
       "\n",
       "       [[0.28285758],\n",
       "        [0.28447226],\n",
       "        [0.28355832],\n",
       "        ...,\n",
       "        [0.35138151],\n",
       "        [0.36851992],\n",
       "        [0.36418355]],\n",
       "\n",
       "       [[0.28447226],\n",
       "        [0.28355832],\n",
       "        [0.28697732],\n",
       "        ...,\n",
       "        [0.36851992],\n",
       "        [0.36418355],\n",
       "        [0.3707108 ]]])"
      ]
     },
     "execution_count": 36,
     "metadata": {},
     "output_type": "execute_result"
    }
   ],
   "source": [
    "x_test"
   ]
  },
  {
   "cell_type": "code",
   "execution_count": 37,
   "id": "a5720c0a",
   "metadata": {},
   "outputs": [
    {
     "name": "stdout",
     "output_type": "stream",
     "text": [
      "1/1 [==============================] - 1s 1s/step\n",
      "prediction: [[23265.023]]\n"
     ]
    }
   ],
   "source": [
    "real_data = [x_test[len(x_test)+1 - qt_days:len(x_test+1),0]]\n",
    "\n",
    "real_data = np.array(real_data)\n",
    "\n",
    "real_data = np.reshape(real_data, (real_data.shape[0], real_data.shape[1], 1))\n",
    "\n",
    "prediction = network.predict(real_data)\n",
    "\n",
    "prediction = mms.inverse_transform(prediction)\n",
    "\n",
    "print(f\"prediction: {prediction}\")"
   ]
  },
  {
   "cell_type": "code",
   "execution_count": 38,
   "id": "a6afbe8b",
   "metadata": {},
   "outputs": [],
   "source": [
    "# Configuração das datas:\n",
    "\n",
    "START_DATE = dt.datetime(2023,3,22)\n",
    "END_DATE = dt.datetime(2023,3,24)"
   ]
  },
  {
   "cell_type": "code",
   "execution_count": 39,
   "id": "fe41ac38",
   "metadata": {},
   "outputs": [
    {
     "data": {
      "text/html": [
       "<div>\n",
       "<style scoped>\n",
       "    .dataframe tbody tr th:only-of-type {\n",
       "        vertical-align: middle;\n",
       "    }\n",
       "\n",
       "    .dataframe tbody tr th {\n",
       "        vertical-align: top;\n",
       "    }\n",
       "\n",
       "    .dataframe thead th {\n",
       "        text-align: right;\n",
       "    }\n",
       "</style>\n",
       "<table border=\"1\" class=\"dataframe\">\n",
       "  <thead>\n",
       "    <tr style=\"text-align: right;\">\n",
       "      <th></th>\n",
       "      <th>close</th>\n",
       "    </tr>\n",
       "  </thead>\n",
       "  <tbody>\n",
       "    <tr>\n",
       "      <th>2023-03-22</th>\n",
       "      <td>27307.437500</td>\n",
       "    </tr>\n",
       "    <tr>\n",
       "      <th>2023-03-23</th>\n",
       "      <td>28333.972656</td>\n",
       "    </tr>\n",
       "    <tr>\n",
       "      <th>2023-03-24</th>\n",
       "      <td>27493.285156</td>\n",
       "    </tr>\n",
       "  </tbody>\n",
       "</table>\n",
       "</div>"
      ],
      "text/plain": [
       "                   close\n",
       "2023-03-22  27307.437500\n",
       "2023-03-23  28333.972656\n",
       "2023-03-24  27493.285156"
      ]
     },
     "execution_count": 39,
     "metadata": {},
     "output_type": "execute_result"
    }
   ],
   "source": [
    "dataset = get_data('BTC-USD', \n",
    "                   start_date=START_DATE, \n",
    "                   end_date=END_DATE, \n",
    "                   index_as_date = True, \n",
    "                   interval=\"1d\")\n",
    "\n",
    "dataset = dataset.dropna()\n",
    "\n",
    "dataset[['close']]"
   ]
  },
  {
   "cell_type": "code",
   "execution_count": 40,
   "id": "4a7d6840",
   "metadata": {},
   "outputs": [
    {
     "data": {
      "text/html": [
       "<div>\n",
       "<style scoped>\n",
       "    .dataframe tbody tr th:only-of-type {\n",
       "        vertical-align: middle;\n",
       "    }\n",
       "\n",
       "    .dataframe tbody tr th {\n",
       "        vertical-align: top;\n",
       "    }\n",
       "\n",
       "    .dataframe thead th {\n",
       "        text-align: right;\n",
       "    }\n",
       "</style>\n",
       "<table border=\"1\" class=\"dataframe\">\n",
       "  <thead>\n",
       "    <tr style=\"text-align: right;\">\n",
       "      <th></th>\n",
       "      <th>close</th>\n",
       "      <th>predictions</th>\n",
       "    </tr>\n",
       "  </thead>\n",
       "  <tbody>\n",
       "    <tr>\n",
       "      <th>2023-03-20</th>\n",
       "      <td>27767.236328</td>\n",
       "      <td>28937.816406</td>\n",
       "    </tr>\n",
       "    <tr>\n",
       "      <th>2023-03-21</th>\n",
       "      <td>28175.816406</td>\n",
       "      <td>29698.064453</td>\n",
       "    </tr>\n",
       "    <tr>\n",
       "      <th>2023-03-22</th>\n",
       "      <td>27307.437500</td>\n",
       "      <td>30198.990234</td>\n",
       "    </tr>\n",
       "  </tbody>\n",
       "</table>\n",
       "</div>"
      ],
      "text/plain": [
       "                   close   predictions\n",
       "2023-03-20  27767.236328  28937.816406\n",
       "2023-03-21  28175.816406  29698.064453\n",
       "2023-03-22  27307.437500  30198.990234"
      ]
     },
     "execution_count": 40,
     "metadata": {},
     "output_type": "execute_result"
    }
   ],
   "source": [
    "validation.tail(3)"
   ]
  },
  {
   "cell_type": "code",
   "execution_count": 47,
   "id": "a9f07d77",
   "metadata": {},
   "outputs": [
    {
     "data": {
      "image/png": "[encoded data removed]",
      "text/plain": [
       "<Figure size 432x288 with 1 Axes>"
      ]
     },
     "metadata": {
      "needs_background": "light"
     },
     "output_type": "display_data"
    }
   ],
   "source": [
    "# plt.plot(dataset['close'], color='red', label=\"Preço Real out\")\n",
    "# plt.plot(y_test, color='black', label=\"Actual price\")\n",
    "plt.plot(prediction, color= 'green', label=\"predicted price\")\n",
    "plt.title(\"share price\")\n",
    "plt.xlabel(\"time\")\n",
    "plt.ylabel(\" share price\")\n",
    "plt.xticks(rotation=45)\n",
    "plt.legend(loc='best')\n",
    "plt.show()"
   ]
  }
 ],
 "metadata": {
  "kernelspec": {
   "display_name": "Python 3 (ipykernel)",
   "language": "python",
   "name": "python3"
  },
  "language_info": {
   "codemirror_mode": {
    "name": "ipython",
    "version": 3
   },
   "file_extension": ".py",
   "mimetype": "text/x-python",
   "name": "python",
   "nbconvert_exporter": "python",
   "pygments_lexer": "ipython3",
   "version": "3.10.12"
  }
 },
 "nbformat": 4,
 "nbformat_minor": 5
}
