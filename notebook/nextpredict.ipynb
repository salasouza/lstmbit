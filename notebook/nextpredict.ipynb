{
 "cells": [
  {
   "cell_type": "markdown",
   "id": "ecf32261-50f0-4a45-8db6-4162459f2579",
   "metadata": {},
   "source": [
    "<h1>Predição de preços de criptoativos utilizando o modelo LSTM</h1>"
   ]
  },
  {
   "cell_type": "code",
   "execution_count": 1,
   "id": "4a87e85a",
   "metadata": {},
   "outputs": [],
   "source": [
    "import os\n",
    "os.environ['TF_CPP_MIN_LOG_LEVEL'] = '2' # Suprime as mensagens do tensor flow"
   ]
  },
  {
   "cell_type": "code",
   "execution_count": 2,
   "id": "db40b7bb",
   "metadata": {},
   "outputs": [],
   "source": [
    "from yahoo_fin.stock_info import get_data\n",
    "from datetime import datetime\n",
    "import datetime as dt\n",
    "from matplotlib import rcParams\n",
    "import matplotlib.pyplot as plt\n",
    "from IPython.display import SVG\n",
    "import seaborn as sns\n",
    "import warnings\n",
    "import numpy as np\n",
    "import pandas as pd\n",
    "import os\n",
    "import math\n",
    "from time import time\n",
    "\n",
    "from sklearn.preprocessing import MinMaxScaler\n",
    "from tensorflow.keras.models import Sequential\n",
    "from tensorflow.keras.layers import Dense, Dropout, LSTM\n",
    "from tensorflow.keras.optimizers import Adam\n",
    "from tensorflow.keras.callbacks import ModelCheckpoint, EarlyStopping,TensorBoard\n",
    "from tensorflow.keras import callbacks\n",
    "from tensorflow import keras\n",
    "from tensorflow.keras import layers\n",
    "\n",
    "from keras.utils import plot_model\n",
    "from keras.utils import model_to_dot"
   ]
  },
  {
   "cell_type": "code",
   "execution_count": 3,
   "id": "9f97343b",
   "metadata": {},
   "outputs": [],
   "source": [
    "np.set_printoptions(suppress=True)\n",
    "warnings.filterwarnings(\"ignore\")"
   ]
  },
  {
   "cell_type": "markdown",
   "id": "8359ae51-a408-44e7-b302-a6d007d58614",
   "metadata": {},
   "source": [
    "<h2>Coleta de dados</h2>"
   ]
  },
  {
   "cell_type": "code",
   "execution_count": 4,
   "id": "0321a7e6",
   "metadata": {},
   "outputs": [],
   "source": [
    "# Parâmetros de extração dos dados\n",
    "ATIVO = 'BTC-USD'\n",
    "START_DATE = dt.datetime(2020,1,1)\n",
    "END_DATE = dt.datetime(2023,4,2)\n",
    "INTERVAL = '1d'\n",
    "# DATE_TEST_PREDICTION = dt.datetime(2023,3,1)"
   ]
  },
  {
   "cell_type": "code",
   "execution_count": 5,
   "id": "519f743f",
   "metadata": {},
   "outputs": [],
   "source": [
    "def download_data(ativo, start, end):\n",
    "    dataframe = get_data(ATIVO, start_date=START_DATE, end_date=END_DATE, index_as_date = True, interval=INTERVAL)\n",
    "    dataframe = dataframe.dropna()\n",
    "    return dataframe"
   ]
  },
  {
   "cell_type": "code",
   "execution_count": 6,
   "id": "81bd1d9a",
   "metadata": {},
   "outputs": [
    {
     "data": {
      "text/html": [
       "<div>\n",
       "<style scoped>\n",
       "    .dataframe tbody tr th:only-of-type {\n",
       "        vertical-align: middle;\n",
       "    }\n",
       "\n",
       "    .dataframe tbody tr th {\n",
       "        vertical-align: top;\n",
       "    }\n",
       "\n",
       "    .dataframe thead th {\n",
       "        text-align: right;\n",
       "    }\n",
       "</style>\n",
       "<table border=\"1\" class=\"dataframe\">\n",
       "  <thead>\n",
       "    <tr style=\"text-align: right;\">\n",
       "      <th></th>\n",
       "      <th>close</th>\n",
       "    </tr>\n",
       "  </thead>\n",
       "  <tbody>\n",
       "    <tr>\n",
       "      <th>2020-01-01</th>\n",
       "      <td>7200.174316</td>\n",
       "    </tr>\n",
       "    <tr>\n",
       "      <th>2020-01-02</th>\n",
       "      <td>6985.470215</td>\n",
       "    </tr>\n",
       "    <tr>\n",
       "      <th>2020-01-03</th>\n",
       "      <td>7344.884277</td>\n",
       "    </tr>\n",
       "    <tr>\n",
       "      <th>2020-01-04</th>\n",
       "      <td>7410.656738</td>\n",
       "    </tr>\n",
       "    <tr>\n",
       "      <th>2020-01-05</th>\n",
       "      <td>7411.317383</td>\n",
       "    </tr>\n",
       "  </tbody>\n",
       "</table>\n",
       "</div>"
      ],
      "text/plain": [
       "                  close\n",
       "2020-01-01  7200.174316\n",
       "2020-01-02  6985.470215\n",
       "2020-01-03  7344.884277\n",
       "2020-01-04  7410.656738\n",
       "2020-01-05  7411.317383"
      ]
     },
     "execution_count": 6,
     "metadata": {},
     "output_type": "execute_result"
    }
   ],
   "source": [
    "data = download_data(ATIVO, START_DATE, END_DATE)\n",
    "\n",
    "data = data[['close']]\n",
    "\n",
    "data.head(5)"
   ]
  },
  {
   "cell_type": "markdown",
   "id": "3acf256b-2ffa-4bbf-8ced-6edca77dd680",
   "metadata": {},
   "source": [
    "<h2>Criação dos conjuntos de dados de treino e teste</h2>"
   ]
  },
  {
   "cell_type": "code",
   "execution_count": 7,
   "id": "b1ce2e9b-4dca-42be-a8e1-8efde36e1363",
   "metadata": {},
   "outputs": [
    {
     "data": {
      "text/plain": [
       "Index(['close'], dtype='object')"
      ]
     },
     "execution_count": 7,
     "metadata": {},
     "output_type": "execute_result"
    }
   ],
   "source": [
    "data.columns"
   ]
  },
  {
   "cell_type": "code",
   "execution_count": 8,
   "id": "04b59bfa-98cb-44a9-a5f0-f36668ed41b1",
   "metadata": {},
   "outputs": [
    {
     "data": {
      "text/plain": [
       "array([[ 7200.17431641],\n",
       "       [ 6985.47021484],\n",
       "       [ 7344.88427734],\n",
       "       ...,\n",
       "       [28478.484375  ],\n",
       "       [28411.03515625],\n",
       "       [28199.30859375]])"
      ]
     },
     "execution_count": 8,
     "metadata": {},
     "output_type": "execute_result"
    }
   ],
   "source": [
    "objeto = data.values\n",
    "\n",
    "objeto"
   ]
  },
  {
   "cell_type": "code",
   "execution_count": 9,
   "id": "460b0e8e-fe63-43f4-a81a-f9ecc71988f2",
   "metadata": {},
   "outputs": [
    {
     "name": "stdout",
     "output_type": "stream",
     "text": [
      "O conjunto de dados tem: 1188 linhas\n"
     ]
    }
   ],
   "source": [
    "print(f\"O conjunto de dados tem: {len(objeto)} linhas\")"
   ]
  },
  {
   "cell_type": "markdown",
   "id": "4146cfaf-fd05-4807-8b24-0f6e432b0c55",
   "metadata": {},
   "source": [
    "<h3>Conversão para conjuntos de dados de treino e teste</h3> "
   ]
  },
  {
   "cell_type": "code",
   "execution_count": 10,
   "id": "f61571fc-02ca-4345-b9f6-8790626df3b1",
   "metadata": {},
   "outputs": [
    {
     "data": {
      "text/plain": [
       "951"
      ]
     },
     "execution_count": 10,
     "metadata": {},
     "output_type": "execute_result"
    }
   ],
   "source": [
    "# Qual o percentual de dados de treino e teste?\n",
    "\n",
    "comprimento_treino = math.ceil(len(objeto)*0.8)\n",
    "comprimento_treino"
   ]
  },
  {
   "cell_type": "code",
   "execution_count": 11,
   "id": "50d9e457-5e39-406e-b677-1a76a37b1ebc",
   "metadata": {},
   "outputs": [],
   "source": [
    "normalizador = MinMaxScaler(feature_range=(0,1))\n",
    "\n",
    "data_normalizado = normalizador.fit_transform(objeto.reshape(-1,1))"
   ]
  },
  {
   "cell_type": "markdown",
   "id": "59ef9f73-6457-4525-803d-4446106d1aa2",
   "metadata": {},
   "source": [
    "<h3>Treino</h3>"
   ]
  },
  {
   "cell_type": "code",
   "execution_count": 12,
   "id": "6612fe83-4797-4868-afd6-663fcc8020b5",
   "metadata": {},
   "outputs": [
    {
     "name": "stdout",
     "output_type": "stream",
     "text": [
      "Dados de x treino para o modelo\n",
      " (891, 60, 1)\n"
     ]
    }
   ],
   "source": [
    "treino = data_normalizado[0: comprimento_treino, :]\n",
    "\n",
    "x_treino = []\n",
    "y_treino = []\n",
    "\n",
    "for i in range(60, len(treino)):\n",
    "    x_treino.append(treino[i-60:i, 0])\n",
    "    y_treino.append(treino[i, 0])\n",
    "    \n",
    "x_treino, y_treino = np.array(x_treino), np.array(y_treino)\n",
    "x_treino = np.reshape(x_treino, (x_treino.shape[0], x_treino.shape[1], 1))\n",
    "\n",
    "print(\"Dados de x treino para o modelo\\n\", x_treino.shape)"
   ]
  },
  {
   "cell_type": "markdown",
   "id": "28bebffb-6a2e-4cf9-b524-c8d73072cb7e",
   "metadata": {},
   "source": [
    "<h3>Teste</h3>"
   ]
  },
  {
   "cell_type": "code",
   "execution_count": 13,
   "id": "df1f1fba-4def-453b-aa37-df04eb8d7b20",
   "metadata": {},
   "outputs": [
    {
     "name": "stdout",
     "output_type": "stream",
     "text": [
      "O comprimento do teste é: 297\n",
      "\n",
      "Dados de teste para o modelo\n",
      " (237, 60, 1)\n"
     ]
    }
   ],
   "source": [
    "teste_dado = data_normalizado[comprimento_treino-60:] \n",
    "\n",
    "print(f\"O comprimento do teste é: {len(teste_dado)}\\n\")\n",
    "\n",
    "# x_treino => (t) e y_treino => (t+1)\n",
    "\n",
    "x_teste = []\n",
    "y_teste = objeto[comprimento_treino:]\n",
    "                                   \n",
    "for i in range(60, len(teste_dado)):\n",
    "    x_teste.append(teste_dado[i-60:i,0]) # x (t)\n",
    "\n",
    "x_teste, y_teste = np.array(x_teste), np.array(y_teste)\n",
    "x_teste= np.reshape(x_teste,(x_teste.shape[0],x_teste.shape[1],1))\n",
    "\n",
    "print(\"Dados de teste para o modelo\\n\", x_teste.shape)"
   ]
  },
  {
   "cell_type": "code",
   "execution_count": 14,
   "id": "92a1c50b",
   "metadata": {},
   "outputs": [
    {
     "name": "stdout",
     "output_type": "stream",
     "text": [
      "\n",
      "## Aqui estamos trabalhando com base de prediçao de 30 dias ##\n",
      "\n",
      "[[0.03561545]\n",
      " [0.03218546]\n",
      " [0.03792726]\n",
      " [0.038978  ]\n",
      " [0.03898856]\n",
      " [0.0447062 ]\n",
      " [0.05100809]\n",
      " [0.04966887]\n",
      " [0.04646114]\n",
      " [0.05105381]\n",
      " [0.04899271]\n",
      " [0.05146821]\n",
      " [0.0506966 ]\n",
      " [0.06161694]\n",
      " [0.06128539]\n",
      " [0.05995584]\n",
      " [0.06323483]\n",
      " [0.06345482]\n",
      " [0.05967561]\n",
      " [0.05889917]\n",
      " [0.06030903]\n",
      " [0.05927033]\n",
      " [0.0548873 ]\n",
      " [0.05550905]\n",
      " [0.05426956]\n",
      " [0.05792766]\n",
      " [0.0629278 ]\n",
      " [0.07009711]\n",
      " [0.06942678]\n",
      " [0.07249987]\n",
      " [0.06996834]\n",
      " [0.07064483]\n",
      " [0.06986987]\n",
      " [0.06905762]\n",
      " [0.06725944]\n",
      " [0.0741682 ]\n",
      " [0.07602739]\n",
      " [0.07708403]\n",
      " [0.07818915]\n",
      " [0.08220785]\n",
      " [0.07805323]\n",
      " [0.0836706 ]\n",
      " [0.0855528 ]\n",
      " [0.08376875]\n",
      " [0.08533013]\n",
      " [0.07857744]\n",
      " [0.07929648]\n",
      " [0.07539382]\n",
      " [0.08261238]\n",
      " [0.07448712]\n",
      " [0.07408915]\n",
      " [0.07533469]\n",
      " [0.07496311]\n",
      " [0.07913803]\n",
      " [0.07475532]\n",
      " [0.06982737]\n",
      " [0.06150124]\n",
      " [0.06092568]\n",
      " [0.0591358 ]\n",
      " [0.05797045]] <------> 0.05737848613720058\n",
      "\n",
      "## Aqui estamos trabalhando com base de prediçao de 30 dias ##\n",
      "\n",
      "[[0.03218546]\n",
      " [0.03792726]\n",
      " [0.038978  ]\n",
      " [0.03898856]\n",
      " [0.0447062 ]\n",
      " [0.05100809]\n",
      " [0.04966887]\n",
      " [0.04646114]\n",
      " [0.05105381]\n",
      " [0.04899271]\n",
      " [0.05146821]\n",
      " [0.0506966 ]\n",
      " [0.06161694]\n",
      " [0.06128539]\n",
      " [0.05995584]\n",
      " [0.06323483]\n",
      " [0.06345482]\n",
      " [0.05967561]\n",
      " [0.05889917]\n",
      " [0.06030903]\n",
      " [0.05927033]\n",
      " [0.0548873 ]\n",
      " [0.05550905]\n",
      " [0.05426956]\n",
      " [0.05792766]\n",
      " [0.0629278 ]\n",
      " [0.07009711]\n",
      " [0.06942678]\n",
      " [0.07249987]\n",
      " [0.06996834]\n",
      " [0.07064483]\n",
      " [0.06986987]\n",
      " [0.06905762]\n",
      " [0.06725944]\n",
      " [0.0741682 ]\n",
      " [0.07602739]\n",
      " [0.07708403]\n",
      " [0.07818915]\n",
      " [0.08220785]\n",
      " [0.07805323]\n",
      " [0.0836706 ]\n",
      " [0.0855528 ]\n",
      " [0.08376875]\n",
      " [0.08533013]\n",
      " [0.07857744]\n",
      " [0.07929648]\n",
      " [0.07539382]\n",
      " [0.08261238]\n",
      " [0.07448712]\n",
      " [0.07408915]\n",
      " [0.07533469]\n",
      " [0.07496311]\n",
      " [0.07913803]\n",
      " [0.07475532]\n",
      " [0.06982737]\n",
      " [0.06150124]\n",
      " [0.06092568]\n",
      " [0.0591358 ]\n",
      " [0.05797045]\n",
      " [0.05737849]] <------> 0.062286397566114995\n"
     ]
    }
   ],
   "source": [
    "# Visualizando os dados x(t) e y(t+1) que vão entrar no modelo\n",
    "\n",
    "for entrada, saida in zip(x_treino[0:2], y_treino[0:2]):\n",
    "    print(\"\\n## Aqui estamos trabalhando com base de prediçao de 30 dias ##\\n\")\n",
    "    print(entrada, \"<------>\", saida)"
   ]
  },
  {
   "cell_type": "markdown",
   "id": "23ddb289-a64c-424d-a9dd-e6eeb8f2a8dc",
   "metadata": {},
   "source": [
    "<h2>Configuração da arquitetura do modelo LSTM</h2>"
   ]
  },
  {
   "cell_type": "code",
   "execution_count": 15,
   "id": "fc0d3626-c24e-46ea-b572-69b9fcbbc281",
   "metadata": {},
   "outputs": [
    {
     "data": {
      "text/plain": [
       "(891, 60, 1)"
      ]
     },
     "execution_count": 15,
     "metadata": {},
     "output_type": "execute_result"
    }
   ],
   "source": [
    "x_treino.shape"
   ]
  },
  {
   "cell_type": "code",
   "execution_count": 16,
   "id": "44468bc6-4c27-4c8a-9a17-6b024cc0b2a9",
   "metadata": {},
   "outputs": [
    {
     "name": "stdout",
     "output_type": "stream",
     "text": [
      "\n",
      "# Input Shape\n",
      " (60, 1)\n",
      "\n",
      "# Quantidade de dias base de treinamento:\n",
      " 60\n",
      "\n",
      "# Quantidade de features:\n",
      " 1\n"
     ]
    }
   ],
   "source": [
    "# Definindo as entradas do modelo LSTM \n",
    "\n",
    "quantidade_dias = x_treino.shape[1]\n",
    "\n",
    "quantidade_features = x_treino.shape[2]\n",
    "\n",
    "input_shape = (quantidade_dias, quantidade_features)\n",
    "\n",
    "print(\"\\n# Input Shape\\n\", input_shape)\n",
    "\n",
    "print(\"\\n# Quantidade de dias base de treinamento:\\n\", quantidade_dias)\n",
    "\n",
    "print(\"\\n# Quantidade de features:\\n\", quantidade_features)"
   ]
  },
  {
   "cell_type": "markdown",
   "id": "1d596b88-e616-46d7-9257-6858e9d86ce7",
   "metadata": {},
   "source": [
    "<h3>LSTM</h3>"
   ]
  },
  {
   "cell_type": "code",
   "execution_count": 17,
   "id": "63847f12-e45c-4ec0-a975-511fef7673bd",
   "metadata": {},
   "outputs": [],
   "source": [
    "# estrutura do modelo:\n",
    "\n",
    "inputs = keras.Input(shape=(input_shape), name='input_layer')\n",
    "\n",
    "x = layers.LSTM(50,activation='sigmoid', return_sequences=True)(inputs)\n",
    "x = layers.Dropout(0.2)(x)\n",
    "\n",
    "x = layers.LSTM(50,activation='sigmoid', return_sequences=True)(x)\n",
    "x = layers.Dropout(0.2)(x)\n",
    "\n",
    "x = layers.LSTM(50, activation='sigmoid')(x)\n",
    "x = layers.Dropout(0.2)(x)\n",
    "\n",
    "outputs = layers.Dense(1, activation='sigmoid')(x)"
   ]
  },
  {
   "cell_type": "code",
   "execution_count": 18,
   "id": "3ddd1d1b-e104-48e0-916c-ffbc88a2b55a",
   "metadata": {},
   "outputs": [],
   "source": [
    "model_lstm = keras.Model(inputs=inputs, \n",
    "                        outputs=outputs, \n",
    "                        name='model_lstm_v1')\n",
    "\n",
    "# opt = keras.optimizers.Adam(learning_rate=0.001)\n",
    "\n",
    "model_lstm.compile(optimizer=\"Adam\",loss='mse')"
   ]
  },
  {
   "cell_type": "code",
   "execution_count": 30,
   "id": "e11f3378",
   "metadata": {},
   "outputs": [
    {
     "data": {
      "image/svg+xml": [
       "<svg xmlns=\"http://www.w3.org/2000/svg\" xmlns:xlink=\"http://www.w3.org/1999/xlink\" width=\"244pt\" height=\"530pt\" viewBox=\"0.00 0.00 293.00 636.00\">\n",
       "<g id=\"graph0\" class=\"graph\" transform=\"scale(0.83 0.83) rotate(0) translate(4 632)\">\n",
       "<title>G</title>\n",
       "<polygon fill=\"white\" stroke=\"transparent\" points=\"-4,4 -4,-632 289,-632 289,4 -4,4\"/>\n",
       "<!-- 140202829102768 -->\n",
       "<g id=\"node1\" class=\"node\">\n",
       "<title>140202829102768</title>\n",
       "<polygon fill=\"none\" stroke=\"black\" points=\"0,-581.5 0,-627.5 285,-627.5 285,-581.5 0,-581.5\"/>\n",
       "<text text-anchor=\"middle\" x=\"48.5\" y=\"-612.3\" font-family=\"Times,serif\" font-size=\"14.00\">input_layer</text>\n",
       "<polyline fill=\"none\" stroke=\"black\" points=\"0,-604.5 97,-604.5 \"/>\n",
       "<text text-anchor=\"middle\" x=\"48.5\" y=\"-589.3\" font-family=\"Times,serif\" font-size=\"14.00\">InputLayer</text>\n",
       "<polyline fill=\"none\" stroke=\"black\" points=\"97,-581.5 97,-627.5 \"/>\n",
       "<text text-anchor=\"middle\" x=\"131\" y=\"-612.3\" font-family=\"Times,serif\" font-size=\"14.00\">input:</text>\n",
       "<polyline fill=\"none\" stroke=\"black\" points=\"97,-604.5 165,-604.5 \"/>\n",
       "<text text-anchor=\"middle\" x=\"131\" y=\"-589.3\" font-family=\"Times,serif\" font-size=\"14.00\">output:</text>\n",
       "<polyline fill=\"none\" stroke=\"black\" points=\"165,-581.5 165,-627.5 \"/>\n",
       "<text text-anchor=\"middle\" x=\"225\" y=\"-612.3\" font-family=\"Times,serif\" font-size=\"14.00\">[(None, 60, 1)]</text>\n",
       "<polyline fill=\"none\" stroke=\"black\" points=\"165,-604.5 285,-604.5 \"/>\n",
       "<text text-anchor=\"middle\" x=\"225\" y=\"-589.3\" font-family=\"Times,serif\" font-size=\"14.00\">[(None, 60, 1)]</text>\n",
       "</g>\n",
       "<!-- 140202828875040 -->\n",
       "<g id=\"node2\" class=\"node\">\n",
       "<title>140202828875040</title>\n",
       "<polygon fill=\"none\" stroke=\"black\" points=\"19.5,-498.5 19.5,-544.5 265.5,-544.5 265.5,-498.5 19.5,-498.5\"/>\n",
       "<text text-anchor=\"middle\" x=\"49\" y=\"-529.3\" font-family=\"Times,serif\" font-size=\"14.00\">lstm</text>\n",
       "<polyline fill=\"none\" stroke=\"black\" points=\"19.5,-521.5 78.5,-521.5 \"/>\n",
       "<text text-anchor=\"middle\" x=\"49\" y=\"-506.3\" font-family=\"Times,serif\" font-size=\"14.00\">LSTM</text>\n",
       "<polyline fill=\"none\" stroke=\"black\" points=\"78.5,-498.5 78.5,-544.5 \"/>\n",
       "<text text-anchor=\"middle\" x=\"112.5\" y=\"-529.3\" font-family=\"Times,serif\" font-size=\"14.00\">input:</text>\n",
       "<polyline fill=\"none\" stroke=\"black\" points=\"78.5,-521.5 146.5,-521.5 \"/>\n",
       "<text text-anchor=\"middle\" x=\"112.5\" y=\"-506.3\" font-family=\"Times,serif\" font-size=\"14.00\">output:</text>\n",
       "<polyline fill=\"none\" stroke=\"black\" points=\"146.5,-498.5 146.5,-544.5 \"/>\n",
       "<text text-anchor=\"middle\" x=\"206\" y=\"-529.3\" font-family=\"Times,serif\" font-size=\"14.00\">(None, 60, 1)</text>\n",
       "<polyline fill=\"none\" stroke=\"black\" points=\"146.5,-521.5 265.5,-521.5 \"/>\n",
       "<text text-anchor=\"middle\" x=\"206\" y=\"-506.3\" font-family=\"Times,serif\" font-size=\"14.00\">(None, 60, 50)</text>\n",
       "</g>\n",
       "<!-- 140202829102768&#45;&gt;140202828875040 -->\n",
       "<g id=\"edge1\" class=\"edge\">\n",
       "<title>140202829102768-&gt;140202828875040</title>\n",
       "<path fill=\"none\" stroke=\"black\" d=\"M142.5,-581.37C142.5,-573.15 142.5,-563.66 142.5,-554.73\"/>\n",
       "<polygon fill=\"black\" stroke=\"black\" points=\"146,-554.61 142.5,-544.61 139,-554.61 146,-554.61\"/>\n",
       "</g>\n",
       "<!-- 140202828874416 -->\n",
       "<g id=\"node3\" class=\"node\">\n",
       "<title>140202828874416</title>\n",
       "<polygon fill=\"none\" stroke=\"black\" points=\"11.5,-415.5 11.5,-461.5 273.5,-461.5 273.5,-415.5 11.5,-415.5\"/>\n",
       "<text text-anchor=\"middle\" x=\"49\" y=\"-446.3\" font-family=\"Times,serif\" font-size=\"14.00\">dropout</text>\n",
       "<polyline fill=\"none\" stroke=\"black\" points=\"11.5,-438.5 86.5,-438.5 \"/>\n",
       "<text text-anchor=\"middle\" x=\"49\" y=\"-423.3\" font-family=\"Times,serif\" font-size=\"14.00\">Dropout</text>\n",
       "<polyline fill=\"none\" stroke=\"black\" points=\"86.5,-415.5 86.5,-461.5 \"/>\n",
       "<text text-anchor=\"middle\" x=\"120.5\" y=\"-446.3\" font-family=\"Times,serif\" font-size=\"14.00\">input:</text>\n",
       "<polyline fill=\"none\" stroke=\"black\" points=\"86.5,-438.5 154.5,-438.5 \"/>\n",
       "<text text-anchor=\"middle\" x=\"120.5\" y=\"-423.3\" font-family=\"Times,serif\" font-size=\"14.00\">output:</text>\n",
       "<polyline fill=\"none\" stroke=\"black\" points=\"154.5,-415.5 154.5,-461.5 \"/>\n",
       "<text text-anchor=\"middle\" x=\"214\" y=\"-446.3\" font-family=\"Times,serif\" font-size=\"14.00\">(None, 60, 50)</text>\n",
       "<polyline fill=\"none\" stroke=\"black\" points=\"154.5,-438.5 273.5,-438.5 \"/>\n",
       "<text text-anchor=\"middle\" x=\"214\" y=\"-423.3\" font-family=\"Times,serif\" font-size=\"14.00\">(None, 60, 50)</text>\n",
       "</g>\n",
       "<!-- 140202828875040&#45;&gt;140202828874416 -->\n",
       "<g id=\"edge2\" class=\"edge\">\n",
       "<title>140202828875040-&gt;140202828874416</title>\n",
       "<path fill=\"none\" stroke=\"black\" d=\"M142.5,-498.37C142.5,-490.15 142.5,-480.66 142.5,-471.73\"/>\n",
       "<polygon fill=\"black\" stroke=\"black\" points=\"146,-471.61 142.5,-461.61 139,-471.61 146,-471.61\"/>\n",
       "</g>\n",
       "<!-- 140202768914848 -->\n",
       "<g id=\"node4\" class=\"node\">\n",
       "<title>140202768914848</title>\n",
       "<polygon fill=\"none\" stroke=\"black\" points=\"17,-332.5 17,-378.5 268,-378.5 268,-332.5 17,-332.5\"/>\n",
       "<text text-anchor=\"middle\" x=\"49\" y=\"-363.3\" font-family=\"Times,serif\" font-size=\"14.00\">lstm_1</text>\n",
       "<polyline fill=\"none\" stroke=\"black\" points=\"17,-355.5 81,-355.5 \"/>\n",
       "<text text-anchor=\"middle\" x=\"49\" y=\"-340.3\" font-family=\"Times,serif\" font-size=\"14.00\">LSTM</text>\n",
       "<polyline fill=\"none\" stroke=\"black\" points=\"81,-332.5 81,-378.5 \"/>\n",
       "<text text-anchor=\"middle\" x=\"115\" y=\"-363.3\" font-family=\"Times,serif\" font-size=\"14.00\">input:</text>\n",
       "<polyline fill=\"none\" stroke=\"black\" points=\"81,-355.5 149,-355.5 \"/>\n",
       "<text text-anchor=\"middle\" x=\"115\" y=\"-340.3\" font-family=\"Times,serif\" font-size=\"14.00\">output:</text>\n",
       "<polyline fill=\"none\" stroke=\"black\" points=\"149,-332.5 149,-378.5 \"/>\n",
       "<text text-anchor=\"middle\" x=\"208.5\" y=\"-363.3\" font-family=\"Times,serif\" font-size=\"14.00\">(None, 60, 50)</text>\n",
       "<polyline fill=\"none\" stroke=\"black\" points=\"149,-355.5 268,-355.5 \"/>\n",
       "<text text-anchor=\"middle\" x=\"208.5\" y=\"-340.3\" font-family=\"Times,serif\" font-size=\"14.00\">(None, 60, 50)</text>\n",
       "</g>\n",
       "<!-- 140202828874416&#45;&gt;140202768914848 -->\n",
       "<g id=\"edge3\" class=\"edge\">\n",
       "<title>140202828874416-&gt;140202768914848</title>\n",
       "<path fill=\"none\" stroke=\"black\" d=\"M142.5,-415.37C142.5,-407.15 142.5,-397.66 142.5,-388.73\"/>\n",
       "<polygon fill=\"black\" stroke=\"black\" points=\"146,-388.61 142.5,-378.61 139,-388.61 146,-388.61\"/>\n",
       "</g>\n",
       "<!-- 140202768321888 -->\n",
       "<g id=\"node5\" class=\"node\">\n",
       "<title>140202768321888</title>\n",
       "<polygon fill=\"none\" stroke=\"black\" points=\"4.5,-249.5 4.5,-295.5 280.5,-295.5 280.5,-249.5 4.5,-249.5\"/>\n",
       "<text text-anchor=\"middle\" x=\"49\" y=\"-280.3\" font-family=\"Times,serif\" font-size=\"14.00\">dropout_1</text>\n",
       "<polyline fill=\"none\" stroke=\"black\" points=\"4.5,-272.5 93.5,-272.5 \"/>\n",
       "<text text-anchor=\"middle\" x=\"49\" y=\"-257.3\" font-family=\"Times,serif\" font-size=\"14.00\">Dropout</text>\n",
       "<polyline fill=\"none\" stroke=\"black\" points=\"93.5,-249.5 93.5,-295.5 \"/>\n",
       "<text text-anchor=\"middle\" x=\"127.5\" y=\"-280.3\" font-family=\"Times,serif\" font-size=\"14.00\">input:</text>\n",
       "<polyline fill=\"none\" stroke=\"black\" points=\"93.5,-272.5 161.5,-272.5 \"/>\n",
       "<text text-anchor=\"middle\" x=\"127.5\" y=\"-257.3\" font-family=\"Times,serif\" font-size=\"14.00\">output:</text>\n",
       "<polyline fill=\"none\" stroke=\"black\" points=\"161.5,-249.5 161.5,-295.5 \"/>\n",
       "<text text-anchor=\"middle\" x=\"221\" y=\"-280.3\" font-family=\"Times,serif\" font-size=\"14.00\">(None, 60, 50)</text>\n",
       "<polyline fill=\"none\" stroke=\"black\" points=\"161.5,-272.5 280.5,-272.5 \"/>\n",
       "<text text-anchor=\"middle\" x=\"221\" y=\"-257.3\" font-family=\"Times,serif\" font-size=\"14.00\">(None, 60, 50)</text>\n",
       "</g>\n",
       "<!-- 140202768914848&#45;&gt;140202768321888 -->\n",
       "<g id=\"edge4\" class=\"edge\">\n",
       "<title>140202768914848-&gt;140202768321888</title>\n",
       "<path fill=\"none\" stroke=\"black\" d=\"M142.5,-332.37C142.5,-324.15 142.5,-314.66 142.5,-305.73\"/>\n",
       "<polygon fill=\"black\" stroke=\"black\" points=\"146,-305.61 142.5,-295.61 139,-305.61 146,-305.61\"/>\n",
       "</g>\n",
       "<!-- 140202820071872 -->\n",
       "<g id=\"node6\" class=\"node\">\n",
       "<title>140202820071872</title>\n",
       "<polygon fill=\"none\" stroke=\"black\" points=\"17,-166.5 17,-212.5 268,-212.5 268,-166.5 17,-166.5\"/>\n",
       "<text text-anchor=\"middle\" x=\"49\" y=\"-197.3\" font-family=\"Times,serif\" font-size=\"14.00\">lstm_2</text>\n",
       "<polyline fill=\"none\" stroke=\"black\" points=\"17,-189.5 81,-189.5 \"/>\n",
       "<text text-anchor=\"middle\" x=\"49\" y=\"-174.3\" font-family=\"Times,serif\" font-size=\"14.00\">LSTM</text>\n",
       "<polyline fill=\"none\" stroke=\"black\" points=\"81,-166.5 81,-212.5 \"/>\n",
       "<text text-anchor=\"middle\" x=\"115\" y=\"-197.3\" font-family=\"Times,serif\" font-size=\"14.00\">input:</text>\n",
       "<polyline fill=\"none\" stroke=\"black\" points=\"81,-189.5 149,-189.5 \"/>\n",
       "<text text-anchor=\"middle\" x=\"115\" y=\"-174.3\" font-family=\"Times,serif\" font-size=\"14.00\">output:</text>\n",
       "<polyline fill=\"none\" stroke=\"black\" points=\"149,-166.5 149,-212.5 \"/>\n",
       "<text text-anchor=\"middle\" x=\"208.5\" y=\"-197.3\" font-family=\"Times,serif\" font-size=\"14.00\">(None, 60, 50)</text>\n",
       "<polyline fill=\"none\" stroke=\"black\" points=\"149,-189.5 268,-189.5 \"/>\n",
       "<text text-anchor=\"middle\" x=\"208.5\" y=\"-174.3\" font-family=\"Times,serif\" font-size=\"14.00\">(None, 50)</text>\n",
       "</g>\n",
       "<!-- 140202768321888&#45;&gt;140202820071872 -->\n",
       "<g id=\"edge5\" class=\"edge\">\n",
       "<title>140202768321888-&gt;140202820071872</title>\n",
       "<path fill=\"none\" stroke=\"black\" d=\"M142.5,-249.37C142.5,-241.15 142.5,-231.66 142.5,-222.73\"/>\n",
       "<polygon fill=\"black\" stroke=\"black\" points=\"146,-222.61 142.5,-212.61 139,-222.61 146,-222.61\"/>\n",
       "</g>\n",
       "<!-- 140202768215968 -->\n",
       "<g id=\"node7\" class=\"node\">\n",
       "<title>140202768215968</title>\n",
       "<polygon fill=\"none\" stroke=\"black\" points=\"18,-83.5 18,-129.5 267,-129.5 267,-83.5 18,-83.5\"/>\n",
       "<text text-anchor=\"middle\" x=\"62.5\" y=\"-114.3\" font-family=\"Times,serif\" font-size=\"14.00\">dropout_2</text>\n",
       "<polyline fill=\"none\" stroke=\"black\" points=\"18,-106.5 107,-106.5 \"/>\n",
       "<text text-anchor=\"middle\" x=\"62.5\" y=\"-91.3\" font-family=\"Times,serif\" font-size=\"14.00\">Dropout</text>\n",
       "<polyline fill=\"none\" stroke=\"black\" points=\"107,-83.5 107,-129.5 \"/>\n",
       "<text text-anchor=\"middle\" x=\"141\" y=\"-114.3\" font-family=\"Times,serif\" font-size=\"14.00\">input:</text>\n",
       "<polyline fill=\"none\" stroke=\"black\" points=\"107,-106.5 175,-106.5 \"/>\n",
       "<text text-anchor=\"middle\" x=\"141\" y=\"-91.3\" font-family=\"Times,serif\" font-size=\"14.00\">output:</text>\n",
       "<polyline fill=\"none\" stroke=\"black\" points=\"175,-83.5 175,-129.5 \"/>\n",
       "<text text-anchor=\"middle\" x=\"221\" y=\"-114.3\" font-family=\"Times,serif\" font-size=\"14.00\">(None, 50)</text>\n",
       "<polyline fill=\"none\" stroke=\"black\" points=\"175,-106.5 267,-106.5 \"/>\n",
       "<text text-anchor=\"middle\" x=\"221\" y=\"-91.3\" font-family=\"Times,serif\" font-size=\"14.00\">(None, 50)</text>\n",
       "</g>\n",
       "<!-- 140202820071872&#45;&gt;140202768215968 -->\n",
       "<g id=\"edge6\" class=\"edge\">\n",
       "<title>140202820071872-&gt;140202768215968</title>\n",
       "<path fill=\"none\" stroke=\"black\" d=\"M142.5,-166.37C142.5,-158.15 142.5,-148.66 142.5,-139.73\"/>\n",
       "<polygon fill=\"black\" stroke=\"black\" points=\"146,-139.61 142.5,-129.61 139,-139.61 146,-139.61\"/>\n",
       "</g>\n",
       "<!-- 140202767900928 -->\n",
       "<g id=\"node8\" class=\"node\">\n",
       "<title>140202767900928</title>\n",
       "<polygon fill=\"none\" stroke=\"black\" points=\"32,-0.5 32,-46.5 253,-46.5 253,-0.5 32,-0.5\"/>\n",
       "<text text-anchor=\"middle\" x=\"62.5\" y=\"-31.3\" font-family=\"Times,serif\" font-size=\"14.00\">dense</text>\n",
       "<polyline fill=\"none\" stroke=\"black\" points=\"32,-23.5 93,-23.5 \"/>\n",
       "<text text-anchor=\"middle\" x=\"62.5\" y=\"-8.3\" font-family=\"Times,serif\" font-size=\"14.00\">Dense</text>\n",
       "<polyline fill=\"none\" stroke=\"black\" points=\"93,-0.5 93,-46.5 \"/>\n",
       "<text text-anchor=\"middle\" x=\"127\" y=\"-31.3\" font-family=\"Times,serif\" font-size=\"14.00\">input:</text>\n",
       "<polyline fill=\"none\" stroke=\"black\" points=\"93,-23.5 161,-23.5 \"/>\n",
       "<text text-anchor=\"middle\" x=\"127\" y=\"-8.3\" font-family=\"Times,serif\" font-size=\"14.00\">output:</text>\n",
       "<polyline fill=\"none\" stroke=\"black\" points=\"161,-0.5 161,-46.5 \"/>\n",
       "<text text-anchor=\"middle\" x=\"207\" y=\"-31.3\" font-family=\"Times,serif\" font-size=\"14.00\">(None, 50)</text>\n",
       "<polyline fill=\"none\" stroke=\"black\" points=\"161,-23.5 253,-23.5 \"/>\n",
       "<text text-anchor=\"middle\" x=\"207\" y=\"-8.3\" font-family=\"Times,serif\" font-size=\"14.00\">(None, 1)</text>\n",
       "</g>\n",
       "<!-- 140202768215968&#45;&gt;140202767900928 -->\n",
       "<g id=\"edge7\" class=\"edge\">\n",
       "<title>140202768215968-&gt;140202767900928</title>\n",
       "<path fill=\"none\" stroke=\"black\" d=\"M142.5,-83.37C142.5,-75.15 142.5,-65.66 142.5,-56.73\"/>\n",
       "<polygon fill=\"black\" stroke=\"black\" points=\"146,-56.61 142.5,-46.61 139,-56.61 146,-56.61\"/>\n",
       "</g>\n",
       "</g>\n",
       "</svg>"
      ],
      "text/plain": [
       "<IPython.core.display.SVG object>"
      ]
     },
     "execution_count": 30,
     "metadata": {},
     "output_type": "execute_result"
    }
   ],
   "source": [
    "# Graphical plot:\n",
    "iv1_dot = model_to_dot(model_lstm, \n",
    "                       show_shapes=True, \n",
    "                       show_layer_names=True, \n",
    "                       dpi=60)\n",
    "\n",
    "SVG(iv1_dot.create(prog=['dot'], format='svg'))"
   ]
  },
  {
   "cell_type": "code",
   "execution_count": 20,
   "id": "7bc4397c-f925-483b-a75a-09d425aad32f",
   "metadata": {},
   "outputs": [],
   "source": [
    "# from keras.callbacks import ReduceLROnPlateau #Learning rate scheduler for when we reach plateaus\n",
    "\n",
    "# rlrop = ReduceLROnPlateau(monitor='val_loss', factor=0.1, patience=100)"
   ]
  },
  {
   "cell_type": "code",
   "execution_count": 21,
   "id": "81f5b068-8421-4c47-b464-fbdebf6b3185",
   "metadata": {},
   "outputs": [
    {
     "name": "stdout",
     "output_type": "stream",
     "text": [
      "Epoch 1/6\n",
      "28/28 - 108s - loss: 0.1224 - 108s/epoch - 4s/step\n",
      "Epoch 2/6\n",
      "28/28 - 123s - loss: 0.0844 - 123s/epoch - 4s/step\n",
      "Epoch 3/6\n",
      "28/28 - 91s - loss: 0.0834 - 91s/epoch - 3s/step\n",
      "Epoch 4/6\n",
      "28/28 - 100s - loss: 0.0837 - 100s/epoch - 4s/step\n",
      "Epoch 5/6\n",
      "28/28 - 132s - loss: 0.0813 - 132s/epoch - 5s/step\n",
      "Epoch 6/6\n",
      "28/28 - 179s - loss: 0.0812 - 179s/epoch - 6s/step\n",
      "\n",
      "## Tempo total gasto:  12 Minutos ##\n"
     ]
    }
   ],
   "source": [
    "tensorboard = TensorBoard(log_dir=\"neuronios/neuronio_150_{}\".format(datetime.now()))\n",
    "\n",
    "import time\n",
    "\n",
    "StartTime = time.time()\n",
    "\n",
    "history = model_lstm.fit(x_treino, \n",
    "                        y_treino,\n",
    "                        epochs=6,\n",
    "                        batch_size=32,\n",
    "                        callbacks=[tensorboard], \n",
    "                        verbose=2)\n",
    "\n",
    "\n",
    "EndTime = time.time()\n",
    "\n",
    "print(\"\\n## Tempo total gasto: \", round((EndTime-StartTime)/60), 'Minutos ##')"
   ]
  },
  {
   "cell_type": "code",
   "execution_count": 36,
   "id": "ac1c7eba",
   "metadata": {},
   "outputs": [
    {
     "data": {
      "text/html": [
       "<div>\n",
       "<style scoped>\n",
       "    .dataframe tbody tr th:only-of-type {\n",
       "        vertical-align: middle;\n",
       "    }\n",
       "\n",
       "    .dataframe tbody tr th {\n",
       "        vertical-align: top;\n",
       "    }\n",
       "\n",
       "    .dataframe thead th {\n",
       "        text-align: right;\n",
       "    }\n",
       "</style>\n",
       "<table border=\"1\" class=\"dataframe\">\n",
       "  <thead>\n",
       "    <tr style=\"text-align: right;\">\n",
       "      <th></th>\n",
       "      <th>loss</th>\n",
       "    </tr>\n",
       "  </thead>\n",
       "  <tbody>\n",
       "    <tr>\n",
       "      <th>0</th>\n",
       "      <td>0.122378</td>\n",
       "    </tr>\n",
       "    <tr>\n",
       "      <th>1</th>\n",
       "      <td>0.084392</td>\n",
       "    </tr>\n",
       "    <tr>\n",
       "      <th>2</th>\n",
       "      <td>0.083398</td>\n",
       "    </tr>\n",
       "  </tbody>\n",
       "</table>\n",
       "</div>"
      ],
      "text/plain": [
       "       loss\n",
       "0  0.122378\n",
       "1  0.084392\n",
       "2  0.083398"
      ]
     },
     "execution_count": 36,
     "metadata": {},
     "output_type": "execute_result"
    }
   ],
   "source": [
    "w = pd.DataFrame(history.history)\n",
    "\n",
    "w.head(3)"
   ]
  },
  {
   "cell_type": "code",
   "execution_count": 44,
   "id": "837fbb5f",
   "metadata": {},
   "outputs": [
    {
     "data": {
      "image/png": "[encoded data removed]",
      "text/plain": [
       "<Figure size 640x480 with 1 Axes>"
      ]
     },
     "metadata": {},
     "output_type": "display_data"
    }
   ],
   "source": [
    "plt.plot(w['loss'], color='red', label='loss')\n",
    "# plt.plot(history.history['val_loss'], color = 'black', label='val loss')\n",
    "plt.title(f'Custo em função das épocas')\n",
    "plt.ylabel('Custo')\n",
    "plt.xlabel('Épocas')\n",
    "plt.legend(bbox_to_anchor=(0.5, 0.1), loc='lower center')\n",
    "plt.tight_layout()\n",
    "plt.show()"
   ]
  },
  {
   "cell_type": "code",
   "execution_count": 22,
   "id": "747ffcb2-0ff7-4ef6-9708-136d5e2183c5",
   "metadata": {},
   "outputs": [
    {
     "data": {
      "image/png": "[encoded data removed]",
      "text/plain": [
       "<Figure size 640x480 with 1 Axes>"
      ]
     },
     "metadata": {},
     "output_type": "display_data"
    }
   ],
   "source": [
    "%matplotlib inline\n",
    "plt.plot(history.history['loss'], color='red', label='loss')\n",
    "# plt.plot(history.history['val_loss'], color = 'black', label='val loss')\n",
    "plt.title(f'Custo em função das épocas')\n",
    "plt.ylabel('Custo')\n",
    "plt.xlabel('Épocas')\n",
    "plt.legend(loc='best') \n",
    "# plt.savefig(f'neuronios/neuronio_150_{datetime.now()}.png', dpi=300, bbox_inches='tight')\n",
    "plt.show()"
   ]
  },
  {
   "cell_type": "markdown",
   "id": "7d51aefc-de82-4670-b565-c8f2ee325fb3",
   "metadata": {},
   "source": [
    "<h3>Avaliação do treino</h3>"
   ]
  },
  {
   "cell_type": "code",
   "execution_count": 23,
   "id": "06aefb0e-a4f7-407b-babf-7174cc02e56c",
   "metadata": {},
   "outputs": [
    {
     "name": "stdout",
     "output_type": "stream",
     "text": [
      "8/8 [==============================] - 17s 2s/step\n",
      "RSME:11108.99914293249\n"
     ]
    }
   ],
   "source": [
    "valores_preditos = model_lstm.predict(x_teste) # aplicando o modelo treino no dados x_teste\n",
    "\n",
    "valores_preditos_reais = normalizador.inverse_transform(valores_preditos)\n",
    "\n",
    "rmse = np.sqrt(np.mean(valores_preditos_reais - y_teste)**2)\n",
    "\n",
    "print(f\"RSME:{rmse}\")"
   ]
  },
  {
   "cell_type": "code",
   "execution_count": 24,
   "id": "23a93eaf-9a7d-404d-8cd7-47dd2e5518e2",
   "metadata": {},
   "outputs": [
    {
     "name": "stdout",
     "output_type": "stream",
     "text": [
      "\n",
      "## Dados de treino originais: (951, 1)\n",
      "\n",
      "## Dados de validação: (237, 1)\n",
      "\n",
      "## Validação (237, 2)\n"
     ]
    },
    {
     "data": {
      "text/html": [
       "<div>\n",
       "<style scoped>\n",
       "    .dataframe tbody tr th:only-of-type {\n",
       "        vertical-align: middle;\n",
       "    }\n",
       "\n",
       "    .dataframe tbody tr th {\n",
       "        vertical-align: top;\n",
       "    }\n",
       "\n",
       "    .dataframe thead th {\n",
       "        text-align: right;\n",
       "    }\n",
       "</style>\n",
       "<table border=\"1\" class=\"dataframe\">\n",
       "  <thead>\n",
       "    <tr style=\"text-align: right;\">\n",
       "      <th></th>\n",
       "      <th>close</th>\n",
       "      <th>Predições</th>\n",
       "    </tr>\n",
       "  </thead>\n",
       "  <tbody>\n",
       "    <tr>\n",
       "      <th>2023-03-31</th>\n",
       "      <td>28478.484375</td>\n",
       "      <td>31753.558594</td>\n",
       "    </tr>\n",
       "    <tr>\n",
       "      <th>2023-04-01</th>\n",
       "      <td>28411.035156</td>\n",
       "      <td>31755.103516</td>\n",
       "    </tr>\n",
       "    <tr>\n",
       "      <th>2023-04-02</th>\n",
       "      <td>28199.308594</td>\n",
       "      <td>31756.027344</td>\n",
       "    </tr>\n",
       "  </tbody>\n",
       "</table>\n",
       "</div>"
      ],
      "text/plain": [
       "                   close     Predições\n",
       "2023-03-31  28478.484375  31753.558594\n",
       "2023-04-01  28411.035156  31755.103516\n",
       "2023-04-02  28199.308594  31756.027344"
      ]
     },
     "execution_count": 24,
     "metadata": {},
     "output_type": "execute_result"
    }
   ],
   "source": [
    "# Valores reais:\n",
    "\n",
    "treino = data[:comprimento_treino]\n",
    "print('\\n## Dados de treino originais:', treino.shape)\n",
    "\n",
    "validacao = data[comprimento_treino:]\n",
    "print('\\n## Dados de validação:',validacao.shape)\n",
    "\n",
    "validacao['Predições'] = valores_preditos_reais\n",
    "print('\\n## Validação', validacao.shape)\n",
    "validacao.tail(3)"
   ]
  },
  {
   "cell_type": "code",
   "execution_count": 25,
   "id": "71d8ee78-ee6d-4a28-b401-b0c59a485a30",
   "metadata": {},
   "outputs": [
    {
     "data": {
      "image/png": "[encoded data removed]",
      "text/plain": [
       "<Figure size 800x600 with 1 Axes>"
      ]
     },
     "metadata": {},
     "output_type": "display_data"
    }
   ],
   "source": [
    "plt.figure(figsize=(8,6))\n",
    "# plt.title('Model')\n",
    "plt.xlabel('Período (meses)')\n",
    "plt.ylabel('BTC($)')\n",
    "plt.plot(treino)\n",
    "plt.plot(validacao[['close', 'Predições']])\n",
    "plt.xticks(rotation=45)\n",
    "plt.legend(['Treino', 'Validação', 'Predições'], loc='best')\n",
    "# plt.savefig(f'neuronios/neuronio_150_{datetime.now()}.png', dpi=300, bbox_inches='tight')\n",
    "plt.show()"
   ]
  },
  {
   "cell_type": "code",
   "execution_count": 26,
   "id": "b2f61096-b6d7-4b5d-bc01-473bea82c1f0",
   "metadata": {},
   "outputs": [
    {
     "data": {
      "image/png": "[encoded data removed]",
      "text/plain": [
       "<Figure size 800x600 with 1 Axes>"
      ]
     },
     "metadata": {},
     "output_type": "display_data"
    }
   ],
   "source": [
    "plt.figure(figsize=(8,6))\n",
    "# plt.title('Model')\n",
    "plt.xlabel('Período (meses)')\n",
    "plt.ylabel('BTC ($)')\n",
    "# plt.plot(treino)\n",
    "plt.plot(validacao[['close', 'Predições']])\n",
    "plt.xticks(rotation=45)\n",
    "plt.legend(['Preços reais', 'Predições'], loc='best')\n",
    "# plt.savefig(f'neuronios/neuronio_150_{datetime.now()}.png', dpi=300, bbox_inches='tight')\n",
    "plt.show()"
   ]
  },
  {
   "cell_type": "code",
   "execution_count": 27,
   "id": "06af104d-a63f-4a43-a5f8-5356ae25702d",
   "metadata": {},
   "outputs": [],
   "source": [
    "# Parâmetros de extração dos dados\n",
    "ATIVO = 'BTC-USD'\n",
    "START_DATE = dt.datetime(2023,3,24)\n",
    "END_DATE = dt.datetime(2023,4,3)\n",
    "INTERVAL = '1d'"
   ]
  },
  {
   "cell_type": "code",
   "execution_count": 28,
   "id": "e3a4fc34-27da-4830-92dc-ce57819f67be",
   "metadata": {},
   "outputs": [
    {
     "data": {
      "text/html": [
       "<div>\n",
       "<style scoped>\n",
       "    .dataframe tbody tr th:only-of-type {\n",
       "        vertical-align: middle;\n",
       "    }\n",
       "\n",
       "    .dataframe tbody tr th {\n",
       "        vertical-align: top;\n",
       "    }\n",
       "\n",
       "    .dataframe thead th {\n",
       "        text-align: right;\n",
       "    }\n",
       "</style>\n",
       "<table border=\"1\" class=\"dataframe\">\n",
       "  <thead>\n",
       "    <tr style=\"text-align: right;\">\n",
       "      <th></th>\n",
       "      <th>close</th>\n",
       "    </tr>\n",
       "  </thead>\n",
       "  <tbody>\n",
       "    <tr>\n",
       "      <th>2023-03-24</th>\n",
       "      <td>27493.285156</td>\n",
       "    </tr>\n",
       "    <tr>\n",
       "      <th>2023-03-25</th>\n",
       "      <td>27494.707031</td>\n",
       "    </tr>\n",
       "    <tr>\n",
       "      <th>2023-03-26</th>\n",
       "      <td>27994.330078</td>\n",
       "    </tr>\n",
       "    <tr>\n",
       "      <th>2023-03-27</th>\n",
       "      <td>27139.888672</td>\n",
       "    </tr>\n",
       "    <tr>\n",
       "      <th>2023-03-28</th>\n",
       "      <td>27268.130859</td>\n",
       "    </tr>\n",
       "    <tr>\n",
       "      <th>2023-03-29</th>\n",
       "      <td>28348.441406</td>\n",
       "    </tr>\n",
       "    <tr>\n",
       "      <th>2023-03-30</th>\n",
       "      <td>28033.562500</td>\n",
       "    </tr>\n",
       "    <tr>\n",
       "      <th>2023-03-31</th>\n",
       "      <td>28478.484375</td>\n",
       "    </tr>\n",
       "    <tr>\n",
       "      <th>2023-04-01</th>\n",
       "      <td>28411.035156</td>\n",
       "    </tr>\n",
       "    <tr>\n",
       "      <th>2023-04-02</th>\n",
       "      <td>28199.308594</td>\n",
       "    </tr>\n",
       "    <tr>\n",
       "      <th>2023-04-03</th>\n",
       "      <td>27790.220703</td>\n",
       "    </tr>\n",
       "  </tbody>\n",
       "</table>\n",
       "</div>"
      ],
      "text/plain": [
       "                   close\n",
       "2023-03-24  27493.285156\n",
       "2023-03-25  27494.707031\n",
       "2023-03-26  27994.330078\n",
       "2023-03-27  27139.888672\n",
       "2023-03-28  27268.130859\n",
       "2023-03-29  28348.441406\n",
       "2023-03-30  28033.562500\n",
       "2023-03-31  28478.484375\n",
       "2023-04-01  28411.035156\n",
       "2023-04-02  28199.308594\n",
       "2023-04-03  27790.220703"
      ]
     },
     "execution_count": 28,
     "metadata": {},
     "output_type": "execute_result"
    }
   ],
   "source": [
    "data = download_data(ATIVO, START_DATE, END_DATE)\n",
    "\n",
    "data = data[['close']]\n",
    "\n",
    "data.head(11)"
   ]
  },
  {
   "cell_type": "code",
   "execution_count": 29,
   "id": "19b7b62c-5a64-4a88-99a2-4f731119ed49",
   "metadata": {},
   "outputs": [
    {
     "name": "stdout",
     "output_type": "stream",
     "text": [
      "1/1 [==============================] - 2s 2s/step\n"
     ]
    },
    {
     "data": {
      "text/plain": [
       "array([[27733.838]], dtype=float32)"
      ]
     },
     "execution_count": 29,
     "metadata": {},
     "output_type": "execute_result"
    }
   ],
   "source": [
    "#Previsão dos proximos conjunto de valores de criptoativos:\n",
    "\n",
    "# Last 10 days prices\n",
    "Last10Days=np.array([27493.28515625, 27494.70703125, \n",
    "                     27994.33007812, 27139.88867188, \n",
    "                     27268.13085938, 28348.44140625, \n",
    "                     28033.5625, 28478.484375,\n",
    "                     28411.03515625, 28199.30859375])\n",
    " \n",
    "# Normalizing the data just like we did for training the model\n",
    "Last10Days=normalizador.fit_transform(Last10Days.reshape(-1,1))\n",
    " \n",
    "# Changing the shape of the data to 3D\n",
    "# Choosing TimeSteps as 10 because we have used the same for training\n",
    "NumSamples=1\n",
    "TimeSteps=10\n",
    "NumFeatures=1\n",
    "Last10Days=Last10Days.reshape(NumSamples,TimeSteps,NumFeatures)\n",
    " \n",
    "#############################\n",
    " \n",
    "# Making predictions on data\n",
    "predicted_Price = model_lstm.predict(Last10Days)\n",
    "predicted_Price = normalizador.inverse_transform(predicted_Price)\n",
    "predicted_Price"
   ]
  }
 ],
 "metadata": {
  "kernelspec": {
   "display_name": "Python 3 (ipykernel)",
   "language": "python",
   "name": "python3"
  },
  "language_info": {
   "codemirror_mode": {
    "name": "ipython",
    "version": 3
   },
   "file_extension": ".py",
   "mimetype": "text/x-python",
   "name": "python",
   "nbconvert_exporter": "python",
   "pygments_lexer": "ipython3",
   "version": "3.10.12"
  }
 },
 "nbformat": 4,
 "nbformat_minor": 5
}
